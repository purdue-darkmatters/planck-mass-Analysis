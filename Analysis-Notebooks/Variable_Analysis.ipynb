{
 "cells": [
  {
   "cell_type": "code",
   "execution_count": 1,
   "metadata": {},
   "outputs": [
    {
     "name": "stderr",
     "output_type": "stream",
     "text": [
      "C:\\Users\\bahaa\\anaconda3\\lib\\site-packages\\wimprates\\halo.py:144: RuntimeWarning: divide by zero encountered in true_divide\n",
      "  / (2 * v_earth_t * v))\n"
     ]
    }
   ],
   "source": [
    "from planckmc.track_generation import halo_model\n",
    "from planckmc.track_generation import make_tracks\n",
    "from planckmc.detector_characteristics import DETECTOR_CHARACTERISTICS\n",
    "from planckmc.response import sensor_response, RESPONSE_DICT\n",
    "from planckmc.config import CONFIG\n",
    "import planckanalysis.integral_transform as pint\n",
    "import planckanalysis.integral_transform_reworked as pint2\n",
    "\n",
    "import numpy as np\n",
    "from numba import njit, jit\n",
    "from tqdm import tqdm\n",
    "import numericalunits as nu\n",
    "from scipy.signal import peak_widths\n",
    "from scipy.signal import peak_prominences\n",
    "from random import randrange, uniform\n",
    "import json\n",
    "\n",
    "%matplotlib inline\n",
    "import matplotlib # plotting libraries\n",
    "from matplotlib import animation, rc, cm\n",
    "import matplotlib.pyplot as plt\n",
    "import matplotlib.colors as clr\n",
    "from mpl_toolkits.mplot3d import Axes3D\n",
    "\n",
    "#%pdb"
   ]
  },
  {
   "cell_type": "code",
   "execution_count": 5,
   "metadata": {},
   "outputs": [
    {
     "data": {
      "text/plain": [
       "(array([[32767, 32768, 32768],\n",
       "        [32767, 32767, 32768],\n",
       "        [32767, 32768, 32768],\n",
       "        ...,\n",
       "        [32768, 32767, 32768],\n",
       "        [32767, 32767, 32769],\n",
       "        [32768, 32767, 32769]], dtype=int64),\n",
       " 8.992418864163215,\n",
       " 313,\n",
       " 346,\n",
       " 881)"
      ]
     },
     "execution_count": 5,
     "metadata": {},
     "output_type": "execute_result"
    }
   ],
   "source": [
    "#Essential Cell: SIMULATION ACCELERATION\n",
    "#Creates track and sensor accelerations (without noise) & developes varibale name standards\n",
    "\n",
    "#Custom Track: 7.5 (units) in length\n",
    "#vel, entry_vecs, exit_vecs, t_entry, t_exit = np.array([257500.]), np.array([[2.10893786], [3.19662096], [3.51766905]]), np.array([[-3.94093443], [ 3.26567685], [-0.91890723]]), np.array([0.]), np.array([2.91362915e-05])\n",
    "\n",
    "#Randomized Track:\n",
    "vel = halo_model.generate_vel_array(n_vels=1)\n",
    "entry_vecs, exit_vecs, t_entry, t_exit = make_tracks.generate_tracks(vel, np.zeros(vel.shape))\n",
    "\n",
    "track=0\n",
    "\n",
    "sensors = tuple(DETECTOR_CHARACTERISTICS.keys())\n",
    "\n",
    "# Make sure the linear response in RESPONSE_DICT (simulation) is the same as the one used in the analysis (Run Response_update)\n",
    "lin_resp = RESPONSE_DICT[sensors[0]]['linear_response']\n",
    "lin_resp_len = len(lin_resp)\n",
    "floor_val = ((lin_resp_len - (((t_exit - t_entry) * 10**7) + 2)) // 2) + 1\n",
    "\n",
    "if floor_val > 1:\n",
    "    n_pad_strt = randrange(floor_val, floor_val + 50) # + 200\n",
    "    n_pad_end = randrange(floor_val, floor_val + 50)\n",
    "else:\n",
    "    floor_val = 1\n",
    "    n_pad_strt = randrange(floor_val, floor_val + 50)\n",
    "    n_pad_end = randrange(floor_val, floor_val + 50)\n",
    "\n",
    "# Acceleration without noise:\n",
    "out = make_tracks.generate_acceleration_dict(entry_vecs, exit_vecs, t_entry, t_exit, {'M':1e8, 'G':6.67e-11}, strt_padding=n_pad_strt, end_padding=n_pad_end)\n",
    "\n",
    "accels = []\n",
    "sensors_pos = []\n",
    "cnt = 0\n",
    "\n",
    "for key in out[track]:\n",
    "    if key not in ['time', 'particle_location']:\n",
    "        accels.append(out[track][sensors[cnt]])\n",
    "        sensors_pos.append(DETECTOR_CHARACTERISTICS[key]['position'])\n",
    "        cnt += 1\n",
    "\n",
    "# Check: Helpful for when n_pad_strt & n_pad_end vary to check for sizes of arrays\n",
    "sensor_response(sensors[0], out[0][sensors[0]]), np.linalg.norm(exit_vecs - entry_vecs), n_pad_strt, n_pad_end, len(out[track]['time'])"
   ]
  },
  {
   "cell_type": "code",
   "execution_count": 7,
   "metadata": {},
   "outputs": [],
   "source": [
    "# Theta goes from 0 to 180 deg, and phi goes from -180 to 180 deg\n",
    "\n",
    "alpha_theta = np.array([0, 0, 1])\n",
    "cos_theta_entry = pint.py_ang(entry_vecs.T[0], alpha_theta.T)\n",
    "if cos_theta_entry < -1:\n",
    "    cos_theta_entry = -1\n",
    "\n",
    "if cos_theta_entry > 1:\n",
    "    cos_theta_entry = 1\n",
    "theta_entry = np.arccos(cos_theta_entry) # This is the theta entry value\n",
    "\n",
    "cos_theta_exit = pint.py_ang(exit_vecs.T[0], alpha_theta.T)\n",
    "if cos_theta_exit < -1:\n",
    "    cos_theta_exit = -1\n",
    "\n",
    "if cos_theta_exit > 1:\n",
    "    cos_theta_exit = 1\n",
    "theta_exit = np.arccos(cos_theta_exit) # This is the theta exit value"
   ]
  },
  {
   "cell_type": "code",
   "execution_count": 8,
   "metadata": {},
   "outputs": [],
   "source": [
    "# Essential cell: NOISY SIMULATION ACCELERATIONS\n",
    "# Generates associated adc values (with added noise) to accelerations\n",
    "# and Takes adc values and returns associated accelerations with noise\n",
    "\n",
    "accels_noise = []\n",
    "x = sensor_response(sensors[0], out[track][sensors[0]])\n",
    "full_data_1 = np.array([[0] * 3 for i in range(x.shape[0])])\n",
    "full_data = np.array([full_data_1 for j in range(len(sensors))])\n",
    "tm_vals = []\n",
    "\n",
    "for sensrs in range(0,len(sensors)):\n",
    "    x = sensor_response(sensors[sensrs], out[track][sensors[sensrs]], response_dict=RESPONSE_DICT)\n",
    "    for tms in range(0,x.shape[0]):\n",
    "        for dim in range(0,len(x[tms])):\n",
    "            # adc with noise\n",
    "            full_data[sensrs][tms][dim] = x[tms][dim]\n",
    "\n",
    "m = np.array(RESPONSE_DICT[sensors[0]]['signal_transfer_response'])\n",
    "\n",
    "# Acceleration with noise\n",
    "accels_w_noise = pint.adc_readout_to_accel(full_data, np.concatenate([[-1], m[:-1]+np.diff(m)/2, [1]]))\n",
    "#accels_w_noise = pint.adc_readout_to_accel(full_data, pint.generate_adc_lookup_table(m))\n",
    "\n",
    "for sensrs2 in range(0,len(sensors)):\n",
    "    accels_noise.append(accels_w_noise[sensrs2])"
   ]
  },
  {
   "cell_type": "code",
   "execution_count": 15,
   "metadata": {},
   "outputs": [
    {
     "name": "stdout",
     "output_type": "stream",
     "text": [
      "1 222 312 534\n"
     ]
    }
   ],
   "source": [
    "# Essential Cell: Analysis Parameter Definitions\n",
    "# Defines the padding parameters, Displays roughly how many samples will run in transform, Defines the analysis parameters\n",
    "\n",
    "# As defined above, the padding is infused with the accels and if wanted removed must be removed with entire consideration index-equivalent data\n",
    "# Order of values in accels: padding -> accels -> padding\n",
    "# Order of values in accels_noise: padding -> accels -> padding -> all of the convolution result\n",
    "\n",
    "time = out[track]['time']-out[track]['time'][0]\n",
    "time_ns = np.linspace(0, (len(accels_noise[0]) - 1) * int(CONFIG['Track Generation']['Timestep']), len(accels_noise[0])) # not to be passed into transform!!\n",
    "\n",
    "# If set to True, then padding will not be removed for the analysis. If set to false, then the padding will be removed out\n",
    "pad_setting = True\n",
    "#pad_setting = False\n",
    "\n",
    "if pad_setting == False:\n",
    "    # Acceleration Settings\n",
    "    tm_steps = len(time) - n_pad_strt - n_pad_end\n",
    "    tmstep_strt = n_pad_strt - 1\n",
    "    tmstep_end = len(time) - n_pad_end - 1\n",
    "\n",
    "else:\n",
    "    # Acceleration Settings\n",
    "    tm_steps = 5\n",
    "    tmstep_strt = 0\n",
    "    tmstep_end = len(time) - 1\n",
    "    \n",
    "\n",
    "rn_step_indctr = []\n",
    "rn_step_indctr_ns = []\n",
    "for rn_stps in range(tmstep_strt, tmstep_end, tm_steps):\n",
    "    rn_step_indctr.append(rn_stps)\n",
    "print(len(rn_step_indctr), tm_steps, tmstep_strt, tmstep_end)\n",
    "        \n",
    "analysis_parameter = []\n",
    "\n",
    "# BELOW HERE: UNCOMMENT the analysis parameter(s) wanted for the analysis (Group of lines at a time) and define padding above correctly\n",
    "##########################################################################################################################################\n",
    "\n",
    "## Time analysis; requires padding above (i.e. set to TRUE)\n",
    "# alphas = pint.Time_Analysis_alphas(vel, entry_vecs, exit_vecs)\n",
    "# analysis_parameter.append('Time')\n",
    "\n",
    "# If padding is removed for any of the two parameter analyses below, a truth value shift will occur in the noise analysis due to the convultion\n",
    "# that makes the data\n",
    "####################\n",
    "## Velocity anlysis; if without padding then only velocity analysis, if with padding then two parameter analysis in time and velocity\n",
    "\n",
    "# Analysis:\n",
    "#num_bin = 250\n",
    "#alphas = pint.Velocity_Analysis_alphas(entry_vecs, exit_vecs, num_bin)\n",
    "#analysis_parameter.append('Velocity')\n",
    "\n",
    "####################\n",
    "## Spatial Theta analysis; if without padding and vel_spatial = vel (option 1) then only spatial, if without padding and vel_spatial = centers of \n",
    "##                         velocity_bin (option 2) then spatial and velocity, if with padding and vel_spatial = vel (option 1) then spatial and time,\n",
    "##                         and if with padding and vel_spatial = centers of velocity_bin (option 2) then spatial, time, and velocity\n",
    "\n",
    "# Option 1:\n",
    "vel_spatial = vel\n",
    "## or\n",
    "# Option 2:\n",
    "# num_bin = 250\n",
    "# velocity_bins = np.linspace(1e5, 7e5, num_bin)\n",
    "# vel_spatial = velocity_bins[:-1] + np.diff(velocity_bins) / 2\n",
    "\n",
    "# Analysis:\n",
    "alphas, theta_cos_vals = pint.Theta_Analysis_alphas(vel_spatial, entry_vecs, exit_vecs, radius = float(CONFIG['Track Generation']['BoundingSphereRadius']))\n",
    "theta_vals = np.arccos(theta_cos_vals)\n",
    "analysis_parameter.append('Theta_Space')\n",
    "\n",
    "# Currently, there is no dedicated phi analysis alpha generator, but one can be made from the example of the theta alphas\n",
    "# The fitting algorithm notes do have full 6P analyses"
   ]
  },
  {
   "cell_type": "code",
   "execution_count": 13,
   "metadata": {},
   "outputs": [],
   "source": [
    "def transform_operation(time, tm_steps, tmstep_strt, tmstep_end, accels, alphas, sensors_pos, lin_resp):\n",
    "    timestep_indices = np.array(range(tmstep_strt, tmstep_end, tm_steps))\n",
    "    timesteps = time[timestep_indices]\n",
    "\n",
    "    transformed_data = pint.transform(time/1e9, accels, timesteps/1e9, timestep_indices, np.array(alphas), sensors_pos, lin_resp)\n",
    "    \n",
    "    # Below is just experimental code with integral_transform_reworked (not completed) aiming to seperate the teplate formation and teplate matching processes\n",
    "    \n",
    "    #expected_signal_from_sensor, sens_id, start_ind_id, rng_sens_num_id, start_tm_id, n_stp_id, structured_array = pint2.transform_temp(time/1e9, timesteps/1e9, timestep_indices, np.array(alphas), sensors_pos, lin_resp)\n",
    "    #transformed_data = pint2.transform_calc(expected_signal_from_sensor, sens_id, start_ind_id, rng_sens_num_id, start_tm_id, n_stp_id, accels, structured_array)\n",
    "    \n",
    "    return transformed_data"
   ]
  },
  {
   "cell_type": "code",
   "execution_count": 14,
   "metadata": {},
   "outputs": [
    {
     "name": "stderr",
     "output_type": "stream",
     "text": [
      "100%|██████████| 176/176 [20:07<00:00,  6.86s/it]\n"
     ]
    }
   ],
   "source": [
    "# Necessary: Analysis\n",
    "# Runs integral transform given the times, accelerations, alphas, and sensor positions\n",
    "# Transform gives back S, Snorm, and the two four-vectors (x,y,z,t) for all the entry and exit points in the analysis\n",
    "\n",
    "if tm_steps == len(time) and (tmstep_strt != n_pad_strt - 1 or tmstep_end != len(time) - n_pad_end):\n",
    "    raise ValueError(\"You are only analyzing 1 time step, but you also are considering the padding. Please input correct values\")\n",
    "else:\n",
    "    transformed_data = transform_operation(time, tm_steps, tmstep_strt, tmstep_end, accels, alphas, sensors_pos, [1])"
   ]
  },
  {
   "cell_type": "code",
   "execution_count": 16,
   "metadata": {},
   "outputs": [],
   "source": [
    "def transform_operation_noise(time, tm_steps, tmstep_strt, tmstep_end, accels_noise, alphas, sensors_pos, lin_resp):\n",
    "    timestep_indices = np.array(range(tmstep_strt, tmstep_end, tm_steps))\n",
    "    timesteps = time[timestep_indices]\n",
    "    \n",
    "    transformed_data = pint.transform(time/1e9, accels_noise, timesteps/1e9, timestep_indices, np.array(alphas), sensors_pos, lin_resp)\n",
    "    return transformed_data"
   ]
  },
  {
   "cell_type": "code",
   "execution_count": 17,
   "metadata": {},
   "outputs": [
    {
     "name": "stderr",
     "output_type": "stream",
     "text": [
      "100%|██████████| 1/1 [00:07<00:00,  7.87s/it]\n"
     ]
    }
   ],
   "source": [
    "# Necessary: Analysis W/ Noise\n",
    "# Runs integral transform given the times, accelerations with noise, alphas, and sensor positions\n",
    "# Transform has the same format as the cell above\n",
    "\n",
    "if tm_steps == len(time) and (tmstep_strt != n_pad_strt - 1 or tmstep_end != len(time) - n_pad_end):\n",
    "    raise ValueError(\"You are only analyzing 1 time step, but you also are considering the padding. Please input correct values\")\n",
    "else:\n",
    "    transformed_data_noise = transform_operation_noise(time, tm_steps, tmstep_strt, tmstep_end, accels_noise, alphas, sensors_pos, lin_resp)"
   ]
  },
  {
   "cell_type": "code",
   "execution_count": 18,
   "metadata": {},
   "outputs": [
    {
     "data": {
      "text/plain": [
       "array([( 0.00025625,  1.22022735e-06, 0.28148387, -0.43371744, 5.17422999, 0.00e+00,  4.55628313, -1.17105114, -2.21560901, 2.09766769e-05, 210),\n",
       "       ( 0.00414192,  2.34007060e-05, 0.28148387, -0.43371744, 5.17422999, 0.00e+00,  4.42918679,  2.71731474,  0.19622682, 1.76378575e-05, 177),\n",
       "       ( 0.00413008,  2.47310130e-05, 0.28148387, -0.43371744, 5.17422999, 0.00e+00, -1.86322135,  4.69404105,  1.23870286, 1.66718145e-05, 167),\n",
       "       ...,\n",
       "       (-0.00012425, -2.48506715e-05, 0.28148387, -0.43371744, 5.17422999, 8.75e-05, -2.31058822, -3.97334768, -2.43180802, 1.08994834e-04,   5),\n",
       "       (-0.00012382, -2.47644297e-05, 0.28148387, -0.43371744, 5.17422999, 8.75e-05,  3.93440821, -3.36543339, -0.48403526, 1.05481375e-04,   5),\n",
       "       (-0.00012408, -2.48161175e-05, 0.28148387, -0.43371744, 5.17422999, 8.75e-05,  2.54219405, -4.24686782, -1.59416535, 1.07306280e-04,   5)],\n",
       "      dtype=[('S', '<f8'), ('S_norm', '<f8'), ('alpha0_x', '<f8'), ('alpha0_y', '<f8'), ('alpha0_z', '<f8'), ('alpha0_t', '<f8'), ('alpha1_x', '<f8'), ('alpha1_y', '<f8'), ('alpha1_z', '<f8'), ('alpha1_t', '<f8'), ('steps', '<i4')])"
      ]
     },
     "execution_count": 18,
     "metadata": {},
     "output_type": "execute_result"
    }
   ],
   "source": [
    "# Shows the result of transform\n",
    "transformed_data"
   ]
  },
  {
   "cell_type": "code",
   "execution_count": 19,
   "metadata": {},
   "outputs": [
    {
     "data": {
      "text/plain": [
       "(10.93378892, 0.05085483, 0.28148387, -0.43371744, 5.17422999, 3.15e-05, 1.60078503, 4.57222851, -1.89003008, 5.29395881e-05, 215)"
      ]
     },
     "execution_count": 19,
     "metadata": {},
     "output_type": "execute_result"
    }
   ],
   "source": [
    "# Shows the track associated with the largest Snorm (and S) value\n",
    "transformed_data[np.argmax(transformed_data['S_norm'])]"
   ]
  },
  {
   "cell_type": "code",
   "execution_count": 20,
   "metadata": {},
   "outputs": [],
   "source": [
    "# Format: variable = np.array(transformed_data['variable_name'])\n",
    "\n",
    "Snorm_data_plt = np.array(transformed_data['S_norm'])\n",
    "S_data_plt = np.array(transformed_data['S'])\n",
    "\n",
    "# Calculate variable from the standard varaibles of transform if necessary (e.g. theta from the cartesian coordinates)\n",
    "\n",
    "tm_strt_plt = np.array(transformed_data['alpha0_t'])\n",
    "tm_end_plt = np.array(transformed_data['alpha1_t'])\n",
    "vel_plt = np.array(np.sqrt((transformed_data['alpha1_x'] - transformed_data['alpha0_x'])**2 +\n",
    "                   (transformed_data['alpha1_y'] - transformed_data['alpha0_y'])**2 +\n",
    "                   (transformed_data['alpha1_z'] - transformed_data['alpha0_z'])**2) / (transformed_data['alpha1_t'] - transformed_data['alpha0_t']))\n",
    "if 'Theta_Space' in analysis_parameter:\n",
    "    theta_plt = np.repeat(np.array(theta_vals), int(len(transformed_data['alpha0_t'])/90)) #np.array(theta_vals)\n",
    "    theta_cos_plt = np.cos(theta_plt)\n",
    "else:\n",
    "    theta_cos_plt = np.full(len(S_data_plt), cos_theta_entry) # Truth Values\n",
    "    theta_plt = np.full(len(S_data_plt), theta_entry) # Truth Values"
   ]
  },
  {
   "cell_type": "code",
   "execution_count": 21,
   "metadata": {},
   "outputs": [],
   "source": [
    "# Format: variable_noise = np.array(transformed_data_noise['variable_name'])\n",
    "\n",
    "Snorm_data_plt_noise = np.array(transformed_data_noise['S_norm'])\n",
    "S_data_plt_noise = np.array(transformed_data_noise['S'])\n",
    "\n",
    "# Calculate variable from the standard varaibles of transform if necessary (e.g. theta from the cartesian coordinates)\n",
    "\n",
    "tm_strt_plt_noise = np.array(transformed_data_noise['alpha0_t'])\n",
    "tm_end_plt_noise = np.array(transformed_data_noise['alpha1_t'])\n",
    "vel_plt_noise = np.array(np.sqrt((transformed_data_noise['alpha1_x'] - transformed_data_noise['alpha0_x'])**2 +\n",
    "                                 (transformed_data_noise['alpha1_y'] - transformed_data_noise['alpha0_y'])**2 +\n",
    "                                 (transformed_data_noise['alpha1_z'] - transformed_data_noise['alpha0_z'])**2) / (transformed_data_noise['alpha1_t'] - transformed_data_noise['alpha0_t']))\n",
    "if 'Theta_Space' in analysis_parameter:\n",
    "    theta_plt_noise = np.repeat(np.array(theta_vals), int(len(transformed_data_noise['alpha0_t'])/90)) #np.array(theta_vals)\n",
    "    theta_cos_plt_noise = np.cos(theta_plt_noise)\n",
    "else:\n",
    "    theta_cos_plt_noise = np.full(len(S_data_plt_noise), cos_theta_entry) # Truth Values\n",
    "    theta_plt_noise = np.full(len(S_data_plt_noise), theta_entry) # Truth Values"
   ]
  },
  {
   "cell_type": "code",
   "execution_count": 22,
   "metadata": {},
   "outputs": [],
   "source": [
    "# Full width Half Maximum Calculations\n",
    "\n",
    "hf_max_S = np.max(transformed_data['S']) / 2\n",
    "hf_max_Snorm = np.max(transformed_data['S_norm']) / 2\n",
    "\n",
    "# Prominence (Maximum) Determination: Direct Assignment is possible; peak_prominences allows for calculations of correct left and right bases\n",
    "prominence_info = peak_prominences(x=transformed_data['S_norm'], peaks=[np.argmax(transformed_data['S_norm'])])\n",
    "prominence = [np.array([np.max(transformed_data['S_norm'])]), prominence_info[1], prominence_info[2]]\n",
    "\n",
    "# Fwhm Calculation:\n",
    "fwhm_data = peak_widths(x=transformed_data['S_norm'], peaks=[np.argmax(transformed_data['S_norm'])], rel_height=0.5, prominence_data=prominence)\n",
    "\n",
    "# Output of function: widths of each each peak in samples (# of indices), width heights (height of where widths are determined),\n",
    "#                     left interpolated position (left-most index of full-width), right interpolated position (Right-most index of full-width)"
   ]
  },
  {
   "cell_type": "code",
   "execution_count": 23,
   "metadata": {},
   "outputs": [
    {
     "name": "stdout",
     "output_type": "stream",
     "text": [
      "\n",
      " # of indices =  1 , fwhm =  0.0\n",
      "-----------------------------------------------------------\n"
     ]
    },
    {
     "data": {
      "image/png": "[encoded data removed]",
      "text/plain": [
       "<Figure size 720x720 with 1 Axes>"
      ]
     },
     "metadata": {
      "needs_background": "light"
     },
     "output_type": "display_data"
    }
   ],
   "source": [
    "# Entry Time vs. S\n",
    "\n",
    "X_Val1 = [(n_pad_strt - 1) / 10, (n_pad_strt - 1) / 10] # Actual Variable Value of Track\n",
    "Y_Val1 = [min(Snorm_data_plt), max(Snorm_data_plt)] # If plotting S -> min & max of S_data_plt, If plotting Snorm -> min & max of Snorm_data_plt\n",
    "\n",
    "\n",
    "fig1 = plt.figure(figsize=[10,10])\n",
    "plt.plot(tm_strt_plt * 10**6, Snorm_data_plt, 'bo', alpha=1) # Input variable as the X axis & S or Snorm for the y axis\n",
    "plt.plot(X_Val1, Y_Val1, 'r', alpha=0.6, linewidth = 3)\n",
    "\n",
    "plt.plot([tm_strt_plt[int(fwhm_data[2])] * 10**6, tm_strt_plt[int(fwhm_data[3])] * 10**6], [hf_max_Snorm, hf_max_Snorm], 'g', alpha=1, linewidth = 3)\n",
    "print('\\n # of indices = ', int(fwhm_data[0]), ', fwhm = ', abs(tm_strt_plt[int(fwhm_data[2])] - tm_strt_plt[int(fwhm_data[3])]) * 10**6)\n",
    "print('-----------------------------------------------------------')\n",
    "\n",
    "plt.xlim(t_entry * 10**6, t_entry * 10**6 + n_pad_strt / 10 + t_exit  * 10**6 + n_pad_end / 10) # Put ranges if necessary, careful of padding\n",
    "plt.ylabel('Snorm')\n",
    "plt.xlabel('Entry Times (us)')\n",
    "plt.show()"
   ]
  },
  {
   "cell_type": "code",
   "execution_count": 24,
   "metadata": {},
   "outputs": [
    {
     "data": {
      "image/png": "[encoded data removed]",
      "text/plain": [
       "<Figure size 720x720 with 1 Axes>"
      ]
     },
     "metadata": {
      "needs_background": "light"
     },
     "output_type": "display_data"
    }
   ],
   "source": [
    "# Entry Time vs. S w/ Noise\n",
    "\n",
    "# Same format as above\n",
    "\n",
    "X_Val1 = [(n_pad_strt - 1) / 10, (n_pad_strt - 1) / 10] # Actual Variable Value of Track\n",
    "Y_Val1 = [min(Snorm_data_plt_noise), max(Snorm_data_plt_noise)]\n",
    "\n",
    "fig2 = plt.figure(figsize=[10,10])\n",
    "plt.plot(tm_strt_plt_noise * 10**6, Snorm_data_plt_noise, 'bo', alpha=1)\n",
    "plt.plot(X_Val1, Y_Val1, 'r', alpha=0.6, linewidth = 3)\n",
    "\n",
    "#plt.xlim(t_entry * 10**6, t_entry * 10**6 + n_pad_strt / 10 + t_exit  * 10**6 + n_pad_end / 10) # Put ranges if necessary, careful of padding\n",
    "plt.ylabel('Snorm')\n",
    "plt.xlabel('Entry Times (us)')\n",
    "plt.show()"
   ]
  },
  {
   "cell_type": "code",
   "execution_count": 25,
   "metadata": {},
   "outputs": [
    {
     "name": "stdout",
     "output_type": "stream",
     "text": [
      "\n",
      " # of indices =  1 , fwhm =  1.8553257236092056\n",
      "-----------------------------------------------------------\n"
     ]
    },
    {
     "data": {
      "image/png": "[encoded data removed]",
      "text/plain": [
       "<Figure size 720x720 with 1 Axes>"
      ]
     },
     "metadata": {
      "needs_background": "light"
     },
     "output_type": "display_data"
    }
   ],
   "source": [
    "# Exit Time vs. S\n",
    "\n",
    "X_Val1 = [(out[track]['time'][-1] + (n_pad_strt - (n_pad_end-1)) * 100) / 1000, (out[track]['time'][-1] + (n_pad_strt - (n_pad_end-1)) * 100) / 1000]\n",
    "Y_Val1 = [min(Snorm_data_plt), max(Snorm_data_plt)]\n",
    "\n",
    "fig3 = plt.figure(figsize=[10,10])\n",
    "plt.plot(tm_end_plt * 10**6, Snorm_data_plt, 'bo', alpha=1)\n",
    "\n",
    "plt.plot([tm_end_plt[int(fwhm_data[2])] * 10**6, tm_end_plt[int(fwhm_data[3])] * 10**6], [hf_max_Snorm, hf_max_Snorm], 'g', alpha=1, linewidth = 3)\n",
    "print('\\n # of indices = ', int(fwhm_data[0]), ', fwhm = ', abs(tm_end_plt[int(fwhm_data[2])] - tm_end_plt[int(fwhm_data[3])]) * 10**6)\n",
    "print('-----------------------------------------------------------')\n",
    "\n",
    "plt.plot(X_Val1, Y_Val1, 'r', alpha=0.6, linewidth = 3)\n",
    "plt.ylabel('Snorm')\n",
    "plt.xlabel('Exit Times (us)')\n",
    "plt.show()"
   ]
  },
  {
   "cell_type": "code",
   "execution_count": 26,
   "metadata": {},
   "outputs": [
    {
     "data": {
      "image/png": "[encoded data removed]",
      "text/plain": [
       "<Figure size 720x720 with 1 Axes>"
      ]
     },
     "metadata": {
      "needs_background": "light"
     },
     "output_type": "display_data"
    }
   ],
   "source": [
    "# Exit Time vs. S w/ Noise\n",
    "\n",
    "X_Val1 = [(len(time) - n_pad_end)/10, (len(accels_noise[0]) - n_pad_end - lin_resp_len + 1)/10]\n",
    "Y_Val1 = [min(Snorm_data_plt_noise), max(Snorm_data_plt_noise)]\n",
    "\n",
    "fig3 = plt.figure(figsize=[10,10])\n",
    "plt.plot(tm_end_plt_noise * 10**6, Snorm_data_plt_noise, 'bo', alpha=1)\n",
    "plt.plot(X_Val1, Y_Val1, 'r', alpha=0.6, linewidth = 3)\n",
    "\n",
    "plt.ylabel('Snorm')\n",
    "plt.xlabel('Exit Times (us)')\n",
    "plt.show()"
   ]
  },
  {
   "cell_type": "code",
   "execution_count": 27,
   "metadata": {},
   "outputs": [
    {
     "name": "stdout",
     "output_type": "stream",
     "text": [
      "[0.00057245] 5.479491385178563e-05\n",
      "6038\n",
      "[-34.99999978]\n"
     ]
    }
   ],
   "source": [
    "# Values of the Exit Time Analysis and Plotting\n",
    "\n",
    "print(fwhm_data[2] * 10**(-7), tm_end_plt[int(fwhm_data[2])])\n",
    "print(n_pad_strt + (np.argmax(transformed_data['S_norm'])))\n",
    "print(t_exit / 100 - (n_pad_end + 1) + (n_pad_strt -1))"
   ]
  },
  {
   "cell_type": "code",
   "execution_count": 28,
   "metadata": {},
   "outputs": [
    {
     "name": "stdout",
     "output_type": "stream",
     "text": [
      "\n",
      " # of indices =  1 , fwhm =  0.0\n",
      "-----------------------------------------------------------\n"
     ]
    },
    {
     "data": {
      "image/png": "[encoded data removed]",
      "text/plain": [
       "<Figure size 720x720 with 1 Axes>"
      ]
     },
     "metadata": {
      "needs_background": "light"
     },
     "output_type": "display_data"
    }
   ],
   "source": [
    "# Velocity vs. S\n",
    "\n",
    "X_Val1 = [vel/1000, vel/1000]\n",
    "Y_Val1 = [min(Snorm_data_plt), max(Snorm_data_plt)]\n",
    "\n",
    "fig4 = plt.figure(figsize=[10,10])\n",
    "plt.plot(vel_plt/1000, Snorm_data_plt, 'bo', alpha=1)\n",
    "plt.plot(X_Val1, Y_Val1, 'r', alpha=0.6, linewidth = 3)\n",
    "\n",
    "if 'Velocity' in analysis_parameter:\n",
    "    vel_step = vel_plt[1] - vel_plt[0]\n",
    "else:\n",
    "    vel_step = 0\n",
    "\n",
    "plt.plot([1e2 + fwhm_data[2] * vel_step / 1000, 1e2 + fwhm_data[3] * vel_step / 1000], [hf_max_Snorm, hf_max_Snorm], 'g', alpha=1, linewidth = 3)\n",
    "print('\\n # of indices = ', int(fwhm_data[0]), ', fwhm = ', abs(vel_plt[int(fwhm_data[2])] - vel_plt[int(fwhm_data[3])])/1000)\n",
    "print('-----------------------------------------------------------')\n",
    "\n",
    "plt.ylabel('Snorm')\n",
    "plt.xlabel('Velocity (km/s)')\n",
    "plt.show()"
   ]
  },
  {
   "cell_type": "code",
   "execution_count": 29,
   "metadata": {},
   "outputs": [
    {
     "data": {
      "image/png": "[encoded data removed]",
      "text/plain": [
       "<Figure size 720x720 with 1 Axes>"
      ]
     },
     "metadata": {
      "needs_background": "light"
     },
     "output_type": "display_data"
    }
   ],
   "source": [
    "# Velocity vs. S w/ Noise\n",
    "\n",
    "X_Val1 = [vel/1000, vel/1000]\n",
    "Y_Val1 = [min(Snorm_data_plt_noise), max(Snorm_data_plt_noise)]\n",
    "\n",
    "fig3 = plt.figure(figsize=[10,10])\n",
    "plt.plot(vel_plt_noise/1000, Snorm_data_plt_noise, 'bo', alpha=1)\n",
    "plt.plot(X_Val1, Y_Val1, 'r', alpha=0.6, linewidth = 3)\n",
    "\n",
    "plt.ylabel('Snorm')\n",
    "plt.xlabel('Velocity (m/s)')\n",
    "plt.show()"
   ]
  },
  {
   "cell_type": "code",
   "execution_count": 30,
   "metadata": {},
   "outputs": [
    {
     "name": "stdout",
     "output_type": "stream",
     "text": [
      "[0.] 408.50000000000006\n",
      "100.0\n",
      "[408.5]\n",
      "0.0\n"
     ]
    }
   ],
   "source": [
    "# Values of the Velocity Analysis and Plotting\n",
    "\n",
    "print(fwhm_data[2] * vel_step / 1000, vel_plt[int(fwhm_data[2])] / 1000)\n",
    "print(1e2 + (np.argmax(transformed_data['S_norm'])) * vel_step / 1000)\n",
    "print(vel/1000)\n",
    "print(vel_step/1000)"
   ]
  },
  {
   "cell_type": "code",
   "execution_count": 31,
   "metadata": {},
   "outputs": [
    {
     "data": {
      "text/plain": [
       "15840"
      ]
     },
     "execution_count": 31,
     "metadata": {},
     "output_type": "execute_result"
    }
   ],
   "source": [
    "len(Snorm_data_plt)"
   ]
  },
  {
   "cell_type": "code",
   "execution_count": 32,
   "metadata": {},
   "outputs": [
    {
     "name": "stdout",
     "output_type": "stream",
     "text": [
      "\n",
      " # of indices =  1 , fwhm =  0.0\n",
      "-----------------------------------------------------------\n"
     ]
    },
    {
     "data": {
      "image/png": "[encoded data removed]",
      "text/plain": [
       "<Figure size 720x720 with 1 Axes>"
      ]
     },
     "metadata": {
      "needs_background": "light"
     },
     "output_type": "display_data"
    }
   ],
   "source": [
    "# cos(theta) vs. S\n",
    "\n",
    "X_Val1 = [cos_theta_entry, cos_theta_entry] # plotting cos theta values\n",
    "Y_Val1 = [min(Snorm_data_plt), max(Snorm_data_plt)]\n",
    "\n",
    "fig3 = plt.figure(figsize=[10,10])\n",
    "plt.plot(theta_cos_plt, Snorm_data_plt, 'bo', alpha=1)\n",
    "plt.plot(X_Val1, Y_Val1, 'r', alpha=0.6, linewidth = 3)\n",
    "\n",
    "plt.plot([theta_cos_plt[int(fwhm_data[2])], theta_cos_plt[int(fwhm_data[3])]], [hf_max_Snorm, hf_max_Snorm], 'g', alpha=1, linewidth = 3)\n",
    "print('\\n # of indices = ', int(fwhm_data[0]), ', fwhm = ', abs(theta_cos_plt[int(fwhm_data[2])] - theta_cos_plt[int(fwhm_data[3])]))\n",
    "print('-----------------------------------------------------------')\n",
    "\n",
    "plt.ylabel('Snorm')\n",
    "plt.xlabel('Cos(theta)')\n",
    "plt.show()"
   ]
  },
  {
   "cell_type": "code",
   "execution_count": 33,
   "metadata": {},
   "outputs": [
    {
     "name": "stdout",
     "output_type": "stream",
     "text": [
      "\n",
      " # of indices =  1 , fwhm =  0.0\n",
      "-----------------------------------------------------------\n"
     ]
    },
    {
     "data": {
      "image/png": "[encoded data removed]",
      "text/plain": [
       "<Figure size 720x720 with 1 Axes>"
      ]
     },
     "metadata": {
      "needs_background": "light"
     },
     "output_type": "display_data"
    }
   ],
   "source": [
    "# Theta vs. S\n",
    "\n",
    "X_Val1 = [theta_entry, theta_entry] # plotting theta values\n",
    "Y_Val1 = [min(Snorm_data_plt), max(Snorm_data_plt)]\n",
    "\n",
    "fig3 = plt.figure(figsize=[10,10])\n",
    "plt.plot(theta_plt, Snorm_data_plt, 'bo', alpha=1)\n",
    "plt.plot(X_Val1, Y_Val1, 'r', alpha=0.6, linewidth = 3)\n",
    "\n",
    "plt.plot([theta_plt[int(fwhm_data[2])], theta_plt[int(fwhm_data[3])]], [hf_max_Snorm, hf_max_Snorm], 'g', alpha=1, linewidth = 3)\n",
    "print('\\n # of indices = ', int(fwhm_data[0]), ', fwhm = ', abs(theta_plt[int(fwhm_data[2])] - theta_plt[int(fwhm_data[3])]))\n",
    "print('-----------------------------------------------------------')\n",
    "\n",
    "plt.ylabel('Snorm')\n",
    "plt.xlabel('theta')\n",
    "plt.show()"
   ]
  },
  {
   "cell_type": "code",
   "execution_count": 34,
   "metadata": {},
   "outputs": [
    {
     "data": {
      "image/png": "[encoded data removed]",
      "text/plain": [
       "<Figure size 720x720 with 1 Axes>"
      ]
     },
     "metadata": {
      "needs_background": "light"
     },
     "output_type": "display_data"
    }
   ],
   "source": [
    "# cos(theta) vs. S or Theta vs. S w/ Noise\n",
    "\n",
    "X_Val1 = [cos_theta_entry, cos_theta_entry] # if plotting cos theta values\n",
    "# X_Val1 = [theta_entry, theta_entry] # if plotting theta values\n",
    "Y_Val1 = [min(Snorm_data_plt_noise), max(Snorm_data_plt_noise)]\n",
    "\n",
    "fig3 = plt.figure(figsize=[10,10])\n",
    "plt.plot(theta_cos_plt_noise, Snorm_data_plt_noise, 'bo', alpha=1)\n",
    "plt.plot(X_Val1, Y_Val1, 'r', alpha=0.6, linewidth = 3)\n",
    "\n",
    "plt.ylabel('Snorm')\n",
    "plt.xlabel('cos(theta)')\n",
    "plt.show()"
   ]
  },
  {
   "cell_type": "markdown",
   "metadata": {},
   "source": [
    "The part below aims to plot the results above 2 parameters at a time in a 2D histogram with the color intensity being an indicator for the signal strength. This works well and meaningfully if more than one variable are analyzed above."
   ]
  },
  {
   "cell_type": "code",
   "execution_count": 35,
   "metadata": {},
   "outputs": [],
   "source": [
    "timestep_indices = np.array(range(tmstep_strt, tmstep_end, tm_steps))\n",
    "timesteps = time[timestep_indices]\n",
    "\n",
    "if 'Velocity' in analysis_parameter:\n",
    "    v_bin_edges = np.linspace(1e5, 7e5, 250)\n",
    "else:\n",
    "    v_bin_edges = vel\n",
    "\n",
    "if len(timesteps) > 1:\n",
    "    timestep_edges = list(timesteps-(timesteps[1]-timesteps[0])/2)\n",
    "    timestep_edges.append(timesteps[-1] + (timesteps[1]-timesteps[0])/2)\n",
    "    timestep_edges = np.array(timestep_edges)*1e-3\n",
    "else:\n",
    "    timestep_edges = np.array([timesteps[0] * 1e-3])\n",
    "\n",
    "X, Y = np.meshgrid(timestep_edges, v_bin_edges)\n",
    "C_norm = np.zeros(X.shape)\n",
    "C = np.zeros(X.shape)"
   ]
  },
  {
   "cell_type": "code",
   "execution_count": 36,
   "metadata": {},
   "outputs": [],
   "source": [
    "analysis_min_steps = 10\n",
    "\n",
    "# Choose either to plot with noise or without (uncomment the correct line and manually update variables in the loop):\n",
    "\n",
    "for i_row, row in enumerate(transformed_data_noise): # e.g. change to enumerate(transformed_data)\n",
    "    if row['steps'] > analysis_min_steps:\n",
    "        # Change the particular variables to be plotted below. Keep in mind that the asscoiated binning must also be modified above\n",
    "        # (e.g. for row[alpha0_t] plotting the entry time, the timestep edges must be defined, while for the vel_plt_noise[i_row] plotting\n",
    "        # the velocity, the v_bin_edges must be defined).\n",
    "        \n",
    "        j = np.searchsorted(timestep_edges, row['alpha0_t']*1e6) - 1\n",
    "        i = np.searchsorted(v_bin_edges, vel_plt_noise[i_row]) - 1\n",
    "        C[i,j] = row['S']\n",
    "        C_norm[i,j] = row['S_norm']\n",
    "    else:\n",
    "        C[i,j] = 0\n",
    "        C_norm[i,j] = 0"
   ]
  },
  {
   "cell_type": "code",
   "execution_count": 37,
   "metadata": {},
   "outputs": [
    {
     "data": {
      "image/png": "[encoded data removed]",
      "text/plain": [
       "<Figure size 864x720 with 2 Axes>"
      ]
     },
     "metadata": {
      "needs_background": "light"
     },
     "output_type": "display_data"
    }
   ],
   "source": [
    "fig = plt.figure(figsize=(12, 10))\n",
    "ax = fig.add_subplot(111)\n",
    "pcm = ax.pcolormesh(X,Y/1e3,C_norm)\n",
    "ax.scatter(n_pad_strt*0.1, vel[0]/1e3, c='red', marker='x', s=100)\n",
    "ax.set(xlabel='entry time (us)', ylabel='velocity (km/s)')\n",
    "# ax.scatter((len(time) - n_pad_end)/10, vel[0]/1e3, c='red', marker='x', s=100)\n",
    "# ax.set(xlabel='exit time (us)', ylabel='velocity (km/s)')\n",
    "plt.colorbar(pcm, label='Snorm')\n",
    "plt.show()"
   ]
  },
  {
   "cell_type": "code",
   "execution_count": null,
   "metadata": {},
   "outputs": [],
   "source": []
  }
 ],
 "metadata": {
  "kernelspec": {
   "display_name": "Python 3",
   "language": "python",
   "name": "python3"
  },
  "language_info": {
   "codemirror_mode": {
    "name": "ipython",
    "version": 3
   },
   "file_extension": ".py",
   "mimetype": "text/x-python",
   "name": "python",
   "nbconvert_exporter": "python",
   "pygments_lexer": "ipython3",
   "version": "3.7.6"
  },
  "widgets": {
   "application/vnd.jupyter.widget-state+json": {
    "state": {},
    "version_major": 2,
    "version_minor": 0
   }
  }
 },
 "nbformat": 4,
 "nbformat_minor": 4
}
