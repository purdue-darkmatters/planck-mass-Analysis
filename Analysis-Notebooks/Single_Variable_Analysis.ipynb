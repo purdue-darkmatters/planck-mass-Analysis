{
 "cells": [
  {
   "cell_type": "code",
   "execution_count": 1,
   "metadata": {},
   "outputs": [
    {
     "name": "stderr",
     "output_type": "stream",
     "text": [
      "C:\\Users\\bahaa\\anaconda3\\lib\\site-packages\\wimprates\\halo.py:144: RuntimeWarning: divide by zero encountered in true_divide\n",
      "  / (2 * v_earth_t * v))\n"
     ]
    }
   ],
   "source": [
    "from planckmc.track_generation import halo_model\n",
    "from planckmc.track_generation import make_tracks\n",
    "from planckmc.detector_characteristics import DETECTOR_CHARACTERISTICS\n",
    "from planckmc.response import sensor_response, RESPONSE_DICT\n",
    "from planckmc.config import CONFIG\n",
    "import numpy as np\n",
    "from numba import njit, jit\n",
    "%matplotlib inline\n",
    "import matplotlib # plotting libraries\n",
    "from matplotlib import animation, rc, cm\n",
    "import matplotlib.pyplot as plt\n",
    "import matplotlib.colors as clr\n",
    "from mpl_toolkits.mplot3d import Axes3D\n",
    "\n",
    "# import planckanalysis.integral_transform as pint\n",
    "import planckanalysis.integral_transform_reworked as pint # This REQUIRES modified Padding\n",
    "import multihist\n",
    "\n",
    "from tqdm import tqdm\n",
    "from sklearn.preprocessing import MinMaxScaler\n",
    "import numericalunits as nu\n",
    "from scipy.stats import gaussian_kde\n",
    "from scipy.signal import peak_widths\n",
    "from scipy.signal import peak_prominences\n",
    "from random import randrange, uniform\n",
    "\n",
    "import json\n",
    "\n",
    "#%pdb"
   ]
  },
  {
   "cell_type": "code",
   "execution_count": 2,
   "metadata": {},
   "outputs": [
    {
     "data": {
      "text/plain": [
       "(array([[32671, 32684, 32723],\n",
       "        [32669, 32683, 32724],\n",
       "        [32667, 32682, 32725],\n",
       "        ...,\n",
       "        [32807, 32804, 32758],\n",
       "        [32805, 32803, 32758],\n",
       "        [32804, 32803, 32758]], dtype=int64),\n",
       " 6.823794413328211,\n",
       " 506,\n",
       " 417,\n",
       " 1110)"
      ]
     },
     "execution_count": 2,
     "metadata": {},
     "output_type": "execute_result"
    }
   ],
   "source": [
    "#Essential Cell: Creates track and sensor accelerations (without noise) & developes varibale name standards\n",
    "\n",
    "track=0\n",
    "\n",
    "vel = halo_model.generate_vel_array(n_vels=1)\n",
    "entry_vecs, exit_vecs, t_entry, t_exit = make_tracks.generate_tracks(vel, np.zeros(vel.shape))\n",
    "\n",
    "sensors = tuple(DETECTOR_CHARACTERISTICS.keys())\n",
    "\n",
    "lin_resp = RESPONSE_DICT[sensors[0]]['linear_response']\n",
    "lin_resp_len = len(lin_resp)\n",
    "floor_val = ((lin_resp_len - (((t_exit - t_entry) * 10**7) + 2)) // 2) + 1\n",
    "\n",
    "if floor_val > 1:\n",
    "    n_pad_strt = randrange(floor_val, floor_val + 200)\n",
    "    n_pad_end = randrange(floor_val, floor_val + 200)\n",
    "else:\n",
    "    floor_val = 1\n",
    "    n_pad_strt = randrange(floor_val, floor_val + 200)\n",
    "    n_pad_end = randrange(floor_val, floor_val + 200)\n",
    "\n",
    "# Acceleration without noise:\n",
    "out = make_tracks.generate_acceleration_dict(entry_vecs, exit_vecs, t_entry, t_exit, {'M':1e10, 'G':6.67e-11}, strt_padding=n_pad_strt, end_padding=n_pad_end)\n",
    "\n",
    "# Check: Helpful for when n_pad_strt & n_pad_end vary to check for sizes of arrays\n",
    "sensor_response(sensors[0], out[0][sensors[0]]), np.linalg.norm(exit_vecs - entry_vecs), n_pad_strt, n_pad_end, len(out[track]['time'])"
   ]
  },
  {
   "cell_type": "code",
   "execution_count": 3,
   "metadata": {},
   "outputs": [],
   "source": [
    "# Essential Initial Step for Noise Creation: Generates associated adc values (with added noise) to accelerations\n",
    "# Essential for Noise Creation: Takes adc values and returns associated accelerations with noise\n",
    "\n",
    "full_data_1 = np.array([[0] * 3 for i in range(len(out[track]['time']))])\n",
    "full_data = np.array([full_data_1 for j in range(len(sensors))])\n",
    "tm_vals = []\n",
    "\n",
    "for sensrs in range(0,len(sensors)):\n",
    "    x = sensor_response(sensors[sensrs], out[track][sensors[sensrs]])\n",
    "    for tms in range(0,len(out[track]['time'])):\n",
    "        for dim in range(0,len(x[tms])):\n",
    "            # adc with noise\n",
    "            full_data[sensrs][tms][dim] = x[tms][dim]\n",
    "\n",
    "with open('response.json') as file:\n",
    "  data = json.load(file)\n",
    "\n",
    "m = np.array(data[sensors[0]]['signal_transfer_response'])\n",
    "\n",
    "# Acceleration with noise\n",
    "accels_w_noise = pint.adc_readout_to_accel(full_data, np.concatenate([[-np.inf], m[:-1]+np.diff(m)/2, [np.inf]]))"
   ]
  },
  {
   "cell_type": "code",
   "execution_count": 4,
   "metadata": {},
   "outputs": [
    {
     "name": "stdout",
     "output_type": "stream",
     "text": [
      "111\n"
     ]
    }
   ],
   "source": [
    "# Essential: Assigns the acceleration variables to the names used in the analysis (can be assigned above; correct naming is important)\n",
    "# Necessary: Creates important variables and displays roughly how many samples will run in transform (KEEP in this ORDER)\n",
    "\n",
    "time = out[track]['time']-out[track]['time'][0]\n",
    "\n",
    "# FOR padding:\n",
    "tm_steps = 10 #1\n",
    "tmstep_strt = 0\n",
    "tmstep_end = len(time)\n",
    "\n",
    "# For NO padding:\n",
    "#tm_steps = len(time)\n",
    "#tmstep_strt = n_pad_strt - 1\n",
    "#tmstep_end = len(time) - n_pad_end + 1\n",
    "\n",
    "accels = []\n",
    "accels_noise = []\n",
    "sensors_pos = []\n",
    "cnt = 0\n",
    "\n",
    "for key in out[track]:\n",
    "    if key not in ['time', 'particle_location']:\n",
    "        accels.append(out[track][sensors[cnt]])\n",
    "        accels_noise.append(accels_w_noise[cnt])\n",
    "        sensors_pos.append(DETECTOR_CHARACTERISTICS[key]['position'])\n",
    "        cnt += 1\n",
    "        #print(key)\n",
    "\n",
    "N_Analyses = 0\n",
    "rn_step_indctr = []\n",
    "for rn_stps in range(tmstep_strt, tmstep_end, tm_steps):\n",
    "    rn_step_indctr.append(rn_stps)\n",
    "print(len(rn_step_indctr))"
   ]
  },
  {
   "cell_type": "code",
   "execution_count": 5,
   "metadata": {},
   "outputs": [],
   "source": [
    "# Function for Spatial Analysis (generates the relative thetas)\n",
    "\n",
    "def py_ang(v1, v2):\n",
    "    # Returns the angle in radians between vectors 'v1' and 'v2'\n",
    "    cosdata = np.dot(v1, v2)\n",
    "    denominator = np.linalg.norm(v1)*np.linalg.norm(v2)\n",
    "    cosang = cosdata/denominator\n",
    "    \n",
    "    return cosang"
   ]
  },
  {
   "cell_type": "code",
   "execution_count": 6,
   "metadata": {},
   "outputs": [],
   "source": [
    "# Essential: Entry and Exit Time Analysis (Blind)\n",
    "# Generates the alphas with x_0, y_0, z_0 and x_1, y_1, z_1 \n",
    "\n",
    "def Time_Analysis(entry_vecs, exit_vecs, n_pad_strt, n_pad_end, N_Analyses):\n",
    "    velocity = [vel]\n",
    "    alphas = []\n",
    "\n",
    "    for vel_p in velocity:\n",
    "        x_0 = out[track]['particle_location'][n_pad_strt][0]\n",
    "        y_0 = out[track]['particle_location'][n_pad_strt][1]\n",
    "        z_0 = out[track]['particle_location'][n_pad_strt][2]\n",
    "        x_1 = out[track]['particle_location'][-1 - (n_pad_end)][0]\n",
    "        y_1 = out[track]['particle_location'][-1 - (n_pad_end)][1]\n",
    "        z_1 = out[track]['particle_location'][-1 - (n_pad_end)][2]\n",
    "        length = np.sqrt(\n",
    "            (x_1-x_0)**2 +\n",
    "            (y_1-y_0)**2 +\n",
    "            (z_1-z_0)**2\n",
    "        )\n",
    "        alphas.append([\n",
    "            x_0,\n",
    "            y_0,\n",
    "            z_0,\n",
    "            0,\n",
    "            x_1,\n",
    "            y_1,\n",
    "            z_1,\n",
    "            length/vel_p,\n",
    "        ])\n",
    "    \n",
    "    N_Analyses += 1\n",
    "    return alphas"
   ]
  },
  {
   "cell_type": "code",
   "execution_count": 7,
   "metadata": {},
   "outputs": [],
   "source": [
    "# Essential: Velocity Analysis\n",
    "\n",
    "def Velocity_Analysis(entry_vecs, exit_vecs, n_pad_strt, n_pad_end, N_Analyses):\n",
    "    velocity_bins = np.linspace(1e5,7e5,250)\n",
    "    velocity_bin_centres = velocity_bins[:-1] + np.diff(velocity_bins)/2\n",
    "    alphas = []\n",
    "\n",
    "    for vel_p in velocity_bin_centres:\n",
    "        x_0 = entry_vecs[0]\n",
    "        y_0 = entry_vecs[1]\n",
    "        z_0 = entry_vecs[2]\n",
    "        x_1 = exit_vecs[0]\n",
    "        y_1 = exit_vecs[1]\n",
    "        z_1 = exit_vecs[2]\n",
    "        length = np.sqrt(\n",
    "            (x_1-x_0)**2 +\n",
    "            (y_1-y_0)**2 +\n",
    "            (z_1-z_0)**2\n",
    "        )\n",
    "        alphas.append([\n",
    "            x_0,\n",
    "            y_0,\n",
    "            z_0,\n",
    "            0,\n",
    "            x_1,\n",
    "            y_1,\n",
    "            z_1,\n",
    "            length/vel_p,\n",
    "        ])\n",
    "    \n",
    "    N_Analyses += 1\n",
    "    return alphas"
   ]
  },
  {
   "cell_type": "code",
   "execution_count": 8,
   "metadata": {},
   "outputs": [],
   "source": [
    "# Spatial Analysis\n",
    "\n",
    "def Theta_Analysis(vel, entry_vecs, exit_vecs, n_pad_strt, n_pad_end, N_Analyses, radius = float(CONFIG['Track Generation']['BoundingSphereRadius'])):\n",
    "    thetas = np.linspace(0,90,90)\n",
    "    theta_cos_val = []\n",
    "    vel_p = vel\n",
    "    alphas = []\n",
    "    alpharange = []\n",
    "    alpha1 = exit_vecs - entry_vecs\n",
    "    alpha = np.array([alpha1[0][0],alpha1[1][0],alpha1[2][0]]) #redefine/restructure alpha\n",
    "    \n",
    "    for i in thetas: \n",
    "        x_0 = entry_vecs[0]\n",
    "        y_0 = entry_vecs[1]\n",
    "        z_0 = entry_vecs[2]\n",
    "\n",
    "        coordinates = make_tracks.sample_spherical(ndim=3, n_vecs=1)\n",
    "        x_1 = coordinates[0][0]*radius\n",
    "        y_1 = coordinates[1][0]*radius\n",
    "        z_1 = coordinates[2][0]*radius\n",
    "        length = np.sqrt(\n",
    "            (x_1-x_0)**2 +\n",
    "            (y_1-y_0)**2 +\n",
    "            (z_1-z_0)**2\n",
    "        )\n",
    "        ydiff = y_1 - y_0\n",
    "        xdiff = x_1 - x_0\n",
    "        zdiff = z_1 - z_0\n",
    "\n",
    "        alphas.append([\n",
    "            x_0,\n",
    "            y_0,\n",
    "            z_0,\n",
    "            0,\n",
    "            x_1,\n",
    "            y_1,\n",
    "            z_1,\n",
    "            length/vel_p,\n",
    "        ])\n",
    "\n",
    "        alphaprime = np.array([xdiff,ydiff,zdiff])\n",
    "        alpharange.append(alphaprime)\n",
    "\n",
    "        #costheta = np.dot(alpha, alphaprime)/(np.linalg.norm(alpha))*(np.linalg.norm(alphaprime))\n",
    "        #theta = np.arccos(costheta)\n",
    "        costheta = py_ang(alphaprime.T, alpha.T)\n",
    "        theta_cos_val.append(costheta)\n",
    "        \n",
    "    N_Analyses += 1\n",
    "    return alphas, theta_cos_val"
   ]
  },
  {
   "cell_type": "code",
   "execution_count": 9,
   "metadata": {},
   "outputs": [],
   "source": [
    "# analysis_parameter = np.zeros(len(N_Analyses))\n",
    "analysis_parameter = []\n",
    "\n",
    "# BELOW HERE: UNCOMMENT the analysis parameter(s) wanted for the analysis (two lines each)\n",
    "\n",
    "alphas = Time_Analysis(entry_vecs, exit_vecs, n_pad_strt, n_pad_end, N_Analyses)\n",
    "analysis_parameter.append('Time')\n",
    "\n",
    "# alphas = Velocity_Analysis(entry_vecs, exit_vecs, n_pad_strt, n_pad_end, N_Analyses)\n",
    "# analysis_parameter.append('Velocity')\n",
    "\n",
    "# alphas, theta_cos_val = Theta_Analysis(vel, entry_vecs, exit_vecs, n_pad_strt, n_pad_end, N_Analyses, radius = float(CONFIG['Track Generation']['BoundingSphereRadius']))\n",
    "# analysis_parameter.append('Theta_Space')"
   ]
  },
  {
   "cell_type": "code",
   "execution_count": 15,
   "metadata": {},
   "outputs": [],
   "source": [
    "def transform_operation(time, tm_steps, tmstep_strt, tmstep_end, accels, alphas, sensors_pos, lin_resp):\n",
    "    timestep_indices = np.array(range(tmstep_strt, tmstep_end, tm_steps))\n",
    "    timesteps = time[timestep_indices]\n",
    "\n",
    "    #transformed_data = pint.transform(time/1e9, accels, timesteps/1e9, timestep_indices, np.array(alphas), sensors_pos)\n",
    "    \n",
    "    # With integral_transform_reworked\n",
    "    transformed_data = pint.transform(time/1e9, accels, timesteps/1e9, timestep_indices, np.array(alphas), sensors_pos, lin_resp)\n",
    "    return transformed_data"
   ]
  },
  {
   "cell_type": "code",
   "execution_count": 16,
   "metadata": {},
   "outputs": [],
   "source": [
    "def transform_operation_noise(time, tm_steps, tmstep_strt, tmstep_end, accels_noise, alphas, sensors_pos, lin_resp):\n",
    "    timestep_indices = np.array(range(tmstep_strt, tmstep_end, tm_steps))\n",
    "    timesteps = time[timestep_indices]\n",
    "\n",
    "    #transformed_data = pint.transform(time/1e9, accels_noise, timesteps/1e9, timestep_indices, np.array(alphas), sensors_pos)\n",
    "\n",
    "    # With integral_transform_reworked\n",
    "    transformed_data = pint.transform(time/1e9, accels_noise, timesteps/1e9, timestep_indices, np.array(alphas), sensors_pos, lin_resp)\n",
    "    return transformed_data"
   ]
  },
  {
   "cell_type": "code",
   "execution_count": 17,
   "metadata": {},
   "outputs": [
    {
     "name": "stderr",
     "output_type": "stream",
     "text": [
      "100%|██████████| 111/111 [12:40<00:00,  6.85s/it] \n"
     ]
    }
   ],
   "source": [
    "# Necessary: Runs integral transform given the times, accelerations, alphas, and sensor positions\n",
    "# Transform gives back S, Snorm, and the two four-vectors (x,y,z,t) for all the entry and exit points in the analysis\n",
    "\n",
    "if tm_steps == len(time) and (tmstep_strt != n_pad_strt - 1 or tmstep_end != len(time) - n_pad_end + 1):\n",
    "    raise ValueError(\"You are only analyzing 1 time step, but you also are considering the padding. Please input correct values\")\n",
    "else:\n",
    "    transformed_data = transform_operation(time, tm_steps, tmstep_strt, tmstep_end, accels, alphas, sensors_pos, np.array(lin_resp))"
   ]
  },
  {
   "cell_type": "code",
   "execution_count": 18,
   "metadata": {},
   "outputs": [
    {
     "name": "stderr",
     "output_type": "stream",
     "text": [
      "100%|██████████| 111/111 [13:50<00:00,  7.48s/it] \n"
     ]
    }
   ],
   "source": [
    "# Necessary: Runs integral transform given the times, accelerations with noise, alphas, and sensor positions\n",
    "# Transform has the same format as the cell above\n",
    "\n",
    "if tm_steps == len(time) and (tmstep_strt != n_pad_strt - 1 or tmstep_end != len(time) - n_pad_end + 1):\n",
    "    raise ValueError(\"You are only analyzing 1 time step, but you also are considering the padding. Please input correct values\")\n",
    "else:\n",
    "    transformed_data_noise = transform_operation_noise(time, tm_steps, tmstep_strt, tmstep_end, accels_noise, alphas, sensors_pos, np.array(lin_resp))"
   ]
  },
  {
   "cell_type": "code",
   "execution_count": 19,
   "metadata": {
    "collapsed": true,
    "jupyter": {
     "outputs_hidden": true
    }
   },
   "outputs": [
    {
     "data": {
      "text/plain": [
       "array([(-0.18888594, -0.00101552, 4.82778074, 0.55261663, -1.85125578, 0.00e+00, 0.15322416, 5.19879448, -0.07402238, 1.860e-05,  186),\n",
       "       (-0.22401161, -0.00120436, 4.82778074, 0.55261663, -1.85125578, 1.00e-06, 0.15322416, 5.19879448, -0.07402238, 1.960e-05,  186),\n",
       "       (-0.24144437, -0.00129809, 4.82778074, 0.55261663, -1.85125578, 2.00e-06, 0.15322416, 5.19879448, -0.07402238, 2.060e-05,  186),\n",
       "       (-0.24173677, -0.00129966, 4.82778074, 0.55261663, -1.85125578, 3.00e-06, 0.15322416, 5.19879448, -0.07402238, 2.160e-05,  186),\n",
       "       (-0.21922464, -0.00117863, 4.82778074, 0.55261663, -1.85125578, 4.00e-06, 0.15322416, 5.19879448, -0.07402238, 2.260e-05,  186),\n",
       "       (-0.17899365, -0.00096233, 4.82778074, 0.55261663, -1.85125578, 5.00e-06, 0.15322416, 5.19879448, -0.07402238, 2.360e-05,  186),\n",
       "       (-0.11934396, -0.00064163, 4.82778074, 0.55261663, -1.85125578, 6.00e-06, 0.15322416, 5.19879448, -0.07402238, 2.460e-05,  186),\n",
       "       (-0.04323011, -0.00023242, 4.82778074, 0.55261663, -1.85125578, 7.00e-06, 0.15322416, 5.19879448, -0.07402238, 2.560e-05,  186),\n",
       "       ( 0.03717507,  0.00019987, 4.82778074, 0.55261663, -1.85125578, 8.00e-06, 0.15322416, 5.19879448, -0.07402238, 2.660e-05,  186),\n",
       "       ( 0.11080978,  0.00062253, 4.82778074, 0.55261663, -1.85125578, 9.00e-06, 0.15322416, 5.19879448, -0.07402238, 2.760e-05,  178),\n",
       "       ( 0.17791868,  0.00105904, 4.82778074, 0.55261663, -1.85125578, 1.00e-05, 0.15322416, 5.19879448, -0.07402238, 2.860e-05,  168),\n",
       "       ( 0.24777296,  0.00156818, 4.82778074, 0.55261663, -1.85125578, 1.10e-05, 0.15322416, 5.19879448, -0.07402238, 2.960e-05,  158),\n",
       "       ( 0.31117598,  0.00210254, 4.82778074, 0.55261663, -1.85125578, 1.20e-05, 0.15322416, 5.19879448, -0.07402238, 3.060e-05,  148),\n",
       "       ( 0.36800171,  0.00266668, 4.82778074, 0.55261663, -1.85125578, 1.30e-05, 0.15322416, 5.19879448, -0.07402238, 3.160e-05,  138),\n",
       "       ( 0.42755396,  0.00334027, 4.82778074, 0.55261663, -1.85125578, 1.40e-05, 0.15322416, 5.19879448, -0.07402238, 3.260e-05,  128),\n",
       "       ( 0.4713038 ,  0.0039941 , 4.82778074, 0.55261663, -1.85125578, 1.50e-05, 0.15322416, 5.19879448, -0.07402238, 3.360e-05,  118),\n",
       "       ( 0.50375147,  0.00466437, 4.82778074, 0.55261663, -1.85125578, 1.60e-05, 0.15322416, 5.19879448, -0.07402238, 3.460e-05,  108),\n",
       "       ( 0.51891915,  0.00529509, 4.82778074, 0.55261663, -1.85125578, 1.70e-05, 0.15322416, 5.19879448, -0.07402238, 3.560e-05,   98),\n",
       "       ( 0.52090637,  0.00591939, 4.82778074, 0.55261663, -1.85125578, 1.80e-05, 0.15322416, 5.19879448, -0.07402238, 3.660e-05,   88),\n",
       "       ( 0.51170373,  0.0065603 , 4.82778074, 0.55261663, -1.85125578, 1.90e-05, 0.15322416, 5.19879448, -0.07402238, 3.760e-05,   78),\n",
       "       ( 0.48689994,  0.00716029, 4.82778074, 0.55261663, -1.85125578, 2.00e-05, 0.15322416, 5.19879448, -0.07402238, 3.860e-05,   68),\n",
       "       ( 0.44729587,  0.007712  , 4.82778074, 0.55261663, -1.85125578, 2.10e-05, 0.15322416, 5.19879448, -0.07402238, 3.960e-05,   58),\n",
       "       ( 0.39350434,  0.00819801, 4.82778074, 0.55261663, -1.85125578, 2.20e-05, 0.15322416, 5.19879448, -0.07402238, 4.060e-05,   48),\n",
       "       ( 0.32915435,  0.00866196, 4.82778074, 0.55261663, -1.85125578, 2.30e-05, 0.15322416, 5.19879448, -0.07402238, 4.160e-05,   38),\n",
       "       ( 0.25501772,  0.00910778, 4.82778074, 0.55261663, -1.85125578, 2.40e-05, 0.15322416, 5.19879448, -0.07402238, 4.260e-05,   28),\n",
       "       ( 0.1710024 ,  0.00950013, 4.82778074, 0.55261663, -1.85125578, 2.50e-05, 0.15322416, 5.19879448, -0.07402238, 4.360e-05,   18),\n",
       "       ( 0.07873261,  0.00984158, 4.82778074, 0.55261663, -1.85125578, 2.60e-05, 0.15322416, 5.19879448, -0.07402238, 4.460e-05,    8),\n",
       "       ( 0.        ,  0.        , 4.82778074, 0.55261663, -1.85125578, 2.70e-05, 0.15322416, 5.19879448, -0.07402238, 4.560e-05,   -2),\n",
       "       ( 0.        ,  0.        , 4.82778074, 0.55261663, -1.85125578, 2.80e-05, 0.15322416, 5.19879448, -0.07402238, 4.660e-05,  -12),\n",
       "       ( 0.        ,  0.        , 4.82778074, 0.55261663, -1.85125578, 2.90e-05, 0.15322416, 5.19879448, -0.07402238, 4.760e-05,  -22),\n",
       "       ( 0.        ,  0.        , 4.82778074, 0.55261663, -1.85125578, 3.00e-05, 0.15322416, 5.19879448, -0.07402238, 4.860e-05,  -32),\n",
       "       ( 0.        ,  0.        , 4.82778074, 0.55261663, -1.85125578, 3.10e-05, 0.15322416, 5.19879448, -0.07402238, 4.960e-05,  -42),\n",
       "       ( 0.        ,  0.        , 4.82778074, 0.55261663, -1.85125578, 3.20e-05, 0.15322416, 5.19879448, -0.07402238, 5.060e-05,  -52),\n",
       "       ( 0.        ,  0.        , 4.82778074, 0.55261663, -1.85125578, 3.30e-05, 0.15322416, 5.19879448, -0.07402238, 5.160e-05,  -62),\n",
       "       ( 0.        ,  0.        , 4.82778074, 0.55261663, -1.85125578, 3.40e-05, 0.15322416, 5.19879448, -0.07402238, 5.260e-05,  -72),\n",
       "       ( 0.        ,  0.        , 4.82778074, 0.55261663, -1.85125578, 3.50e-05, 0.15322416, 5.19879448, -0.07402238, 5.360e-05,  -82),\n",
       "       ( 0.        ,  0.        , 4.82778074, 0.55261663, -1.85125578, 3.60e-05, 0.15322416, 5.19879448, -0.07402238, 5.460e-05,  -92),\n",
       "       ( 0.        ,  0.        , 4.82778074, 0.55261663, -1.85125578, 3.70e-05, 0.15322416, 5.19879448, -0.07402238, 5.560e-05, -102),\n",
       "       ( 0.        ,  0.        , 4.82778074, 0.55261663, -1.85125578, 3.80e-05, 0.15322416, 5.19879448, -0.07402238, 5.660e-05, -112),\n",
       "       ( 0.        ,  0.        , 4.82778074, 0.55261663, -1.85125578, 3.90e-05, 0.15322416, 5.19879448, -0.07402238, 5.760e-05, -122),\n",
       "       ( 0.        ,  0.        , 4.82778074, 0.55261663, -1.85125578, 4.00e-05, 0.15322416, 5.19879448, -0.07402238, 5.860e-05, -132),\n",
       "       ( 0.        ,  0.        , 4.82778074, 0.55261663, -1.85125578, 4.10e-05, 0.15322416, 5.19879448, -0.07402238, 5.960e-05, -142),\n",
       "       ( 0.        ,  0.        , 4.82778074, 0.55261663, -1.85125578, 4.20e-05, 0.15322416, 5.19879448, -0.07402238, 6.060e-05, -152),\n",
       "       ( 0.        ,  0.        , 4.82778074, 0.55261663, -1.85125578, 4.30e-05, 0.15322416, 5.19879448, -0.07402238, 6.160e-05, -162),\n",
       "       ( 0.        ,  0.        , 4.82778074, 0.55261663, -1.85125578, 4.40e-05, 0.15322416, 5.19879448, -0.07402238, 6.260e-05, -172),\n",
       "       ( 0.        ,  0.        , 4.82778074, 0.55261663, -1.85125578, 4.50e-05, 0.15322416, 5.19879448, -0.07402238, 6.360e-05, -182),\n",
       "       ( 0.        ,  0.        , 4.82778074, 0.55261663, -1.85125578, 4.60e-05, 0.15322416, 5.19879448, -0.07402238, 6.460e-05, -192),\n",
       "       ( 0.        ,  0.        , 4.82778074, 0.55261663, -1.85125578, 4.70e-05, 0.15322416, 5.19879448, -0.07402238, 6.560e-05, -202),\n",
       "       ( 0.        ,  0.        , 4.82778074, 0.55261663, -1.85125578, 4.80e-05, 0.15322416, 5.19879448, -0.07402238, 6.660e-05, -212),\n",
       "       ( 0.        ,  0.        , 4.82778074, 0.55261663, -1.85125578, 4.90e-05, 0.15322416, 5.19879448, -0.07402238, 6.760e-05, -222),\n",
       "       ( 0.        ,  0.        , 4.82778074, 0.55261663, -1.85125578, 5.00e-05, 0.15322416, 5.19879448, -0.07402238, 6.860e-05, -232),\n",
       "       ( 0.        ,  0.        , 4.82778074, 0.55261663, -1.85125578, 5.10e-05, 0.15322416, 5.19879448, -0.07402238, 6.960e-05, -242),\n",
       "       ( 0.        ,  0.        , 4.82778074, 0.55261663, -1.85125578, 5.20e-05, 0.15322416, 5.19879448, -0.07402238, 7.060e-05, -252),\n",
       "       ( 0.        ,  0.        , 4.82778074, 0.55261663, -1.85125578, 5.30e-05, 0.15322416, 5.19879448, -0.07402238, 7.160e-05, -262),\n",
       "       ( 0.        ,  0.        , 4.82778074, 0.55261663, -1.85125578, 5.40e-05, 0.15322416, 5.19879448, -0.07402238, 7.260e-05, -272),\n",
       "       ( 0.        ,  0.        , 4.82778074, 0.55261663, -1.85125578, 5.50e-05, 0.15322416, 5.19879448, -0.07402238, 7.360e-05, -282),\n",
       "       ( 0.        ,  0.        , 4.82778074, 0.55261663, -1.85125578, 5.60e-05, 0.15322416, 5.19879448, -0.07402238, 7.460e-05, -292),\n",
       "       ( 0.        ,  0.        , 4.82778074, 0.55261663, -1.85125578, 5.70e-05, 0.15322416, 5.19879448, -0.07402238, 7.560e-05, -302),\n",
       "       ( 0.        ,  0.        , 4.82778074, 0.55261663, -1.85125578, 5.80e-05, 0.15322416, 5.19879448, -0.07402238, 7.660e-05, -312),\n",
       "       ( 0.        ,  0.        , 4.82778074, 0.55261663, -1.85125578, 5.90e-05, 0.15322416, 5.19879448, -0.07402238, 7.760e-05, -322),\n",
       "       ( 0.        ,  0.        , 4.82778074, 0.55261663, -1.85125578, 6.00e-05, 0.15322416, 5.19879448, -0.07402238, 7.860e-05, -332),\n",
       "       ( 0.        ,  0.        , 4.82778074, 0.55261663, -1.85125578, 6.10e-05, 0.15322416, 5.19879448, -0.07402238, 7.960e-05, -342),\n",
       "       ( 0.        ,  0.        , 4.82778074, 0.55261663, -1.85125578, 6.20e-05, 0.15322416, 5.19879448, -0.07402238, 8.060e-05, -352),\n",
       "       ( 0.        ,  0.        , 4.82778074, 0.55261663, -1.85125578, 6.30e-05, 0.15322416, 5.19879448, -0.07402238, 8.160e-05, -362),\n",
       "       ( 0.        ,  0.        , 4.82778074, 0.55261663, -1.85125578, 6.40e-05, 0.15322416, 5.19879448, -0.07402238, 8.260e-05, -372),\n",
       "       ( 0.        ,  0.        , 4.82778074, 0.55261663, -1.85125578, 6.50e-05, 0.15322416, 5.19879448, -0.07402238, 8.360e-05, -382),\n",
       "       ( 0.        ,  0.        , 4.82778074, 0.55261663, -1.85125578, 6.60e-05, 0.15322416, 5.19879448, -0.07402238, 8.460e-05, -392),\n",
       "       ( 0.        ,  0.        , 4.82778074, 0.55261663, -1.85125578, 6.70e-05, 0.15322416, 5.19879448, -0.07402238, 8.560e-05, -402),\n",
       "       ( 0.        ,  0.        , 4.82778074, 0.55261663, -1.85125578, 6.80e-05, 0.15322416, 5.19879448, -0.07402238, 8.660e-05, -412),\n",
       "       ( 0.        ,  0.        , 4.82778074, 0.55261663, -1.85125578, 6.90e-05, 0.15322416, 5.19879448, -0.07402238, 8.760e-05, -422),\n",
       "       ( 0.        ,  0.        , 4.82778074, 0.55261663, -1.85125578, 7.00e-05, 0.15322416, 5.19879448, -0.07402238, 8.860e-05, -432),\n",
       "       ( 0.        ,  0.        , 4.82778074, 0.55261663, -1.85125578, 7.10e-05, 0.15322416, 5.19879448, -0.07402238, 8.960e-05, -442),\n",
       "       ( 0.        ,  0.        , 4.82778074, 0.55261663, -1.85125578, 7.20e-05, 0.15322416, 5.19879448, -0.07402238, 9.060e-05, -452),\n",
       "       ( 0.        ,  0.        , 4.82778074, 0.55261663, -1.85125578, 7.30e-05, 0.15322416, 5.19879448, -0.07402238, 9.160e-05, -462),\n",
       "       ( 0.        ,  0.        , 4.82778074, 0.55261663, -1.85125578, 7.40e-05, 0.15322416, 5.19879448, -0.07402238, 9.260e-05, -472),\n",
       "       ( 0.        ,  0.        , 4.82778074, 0.55261663, -1.85125578, 7.50e-05, 0.15322416, 5.19879448, -0.07402238, 9.360e-05, -482),\n",
       "       ( 0.        ,  0.        , 4.82778074, 0.55261663, -1.85125578, 7.60e-05, 0.15322416, 5.19879448, -0.07402238, 9.460e-05, -492),\n",
       "       ( 0.        ,  0.        , 4.82778074, 0.55261663, -1.85125578, 7.70e-05, 0.15322416, 5.19879448, -0.07402238, 9.560e-05, -502),\n",
       "       ( 0.        ,  0.        , 4.82778074, 0.55261663, -1.85125578, 7.80e-05, 0.15322416, 5.19879448, -0.07402238, 9.660e-05, -512),\n",
       "       ( 0.        ,  0.        , 4.82778074, 0.55261663, -1.85125578, 7.90e-05, 0.15322416, 5.19879448, -0.07402238, 9.760e-05, -522),\n",
       "       ( 0.        ,  0.        , 4.82778074, 0.55261663, -1.85125578, 8.00e-05, 0.15322416, 5.19879448, -0.07402238, 9.860e-05, -532),\n",
       "       ( 0.        ,  0.        , 4.82778074, 0.55261663, -1.85125578, 8.10e-05, 0.15322416, 5.19879448, -0.07402238, 9.960e-05, -542),\n",
       "       ( 0.        ,  0.        , 4.82778074, 0.55261663, -1.85125578, 8.20e-05, 0.15322416, 5.19879448, -0.07402238, 1.006e-04, -552),\n",
       "       ( 0.        ,  0.        , 4.82778074, 0.55261663, -1.85125578, 8.30e-05, 0.15322416, 5.19879448, -0.07402238, 1.016e-04, -562),\n",
       "       ( 0.        ,  0.        , 4.82778074, 0.55261663, -1.85125578, 8.40e-05, 0.15322416, 5.19879448, -0.07402238, 1.026e-04, -572),\n",
       "       ( 0.        ,  0.        , 4.82778074, 0.55261663, -1.85125578, 8.50e-05, 0.15322416, 5.19879448, -0.07402238, 1.036e-04, -582),\n",
       "       ( 0.        ,  0.        , 4.82778074, 0.55261663, -1.85125578, 8.60e-05, 0.15322416, 5.19879448, -0.07402238, 1.046e-04, -592),\n",
       "       ( 0.        ,  0.        , 4.82778074, 0.55261663, -1.85125578, 8.70e-05, 0.15322416, 5.19879448, -0.07402238, 1.056e-04, -602),\n",
       "       ( 0.        ,  0.        , 4.82778074, 0.55261663, -1.85125578, 8.80e-05, 0.15322416, 5.19879448, -0.07402238, 1.066e-04, -612),\n",
       "       ( 0.        ,  0.        , 4.82778074, 0.55261663, -1.85125578, 8.90e-05, 0.15322416, 5.19879448, -0.07402238, 1.076e-04, -622),\n",
       "       ( 0.        ,  0.        , 4.82778074, 0.55261663, -1.85125578, 9.00e-05, 0.15322416, 5.19879448, -0.07402238, 1.086e-04, -632),\n",
       "       ( 0.        ,  0.        , 4.82778074, 0.55261663, -1.85125578, 9.10e-05, 0.15322416, 5.19879448, -0.07402238, 1.096e-04, -642),\n",
       "       ( 0.        ,  0.        , 4.82778074, 0.55261663, -1.85125578, 9.20e-05, 0.15322416, 5.19879448, -0.07402238, 1.106e-04, -652),\n",
       "       ( 0.        ,  0.        , 4.82778074, 0.55261663, -1.85125578, 9.30e-05, 0.15322416, 5.19879448, -0.07402238, 1.116e-04, -662),\n",
       "       ( 0.        ,  0.        , 4.82778074, 0.55261663, -1.85125578, 9.40e-05, 0.15322416, 5.19879448, -0.07402238, 1.126e-04, -672),\n",
       "       ( 0.        ,  0.        , 4.82778074, 0.55261663, -1.85125578, 9.50e-05, 0.15322416, 5.19879448, -0.07402238, 1.136e-04, -682),\n",
       "       ( 0.        ,  0.        , 4.82778074, 0.55261663, -1.85125578, 9.60e-05, 0.15322416, 5.19879448, -0.07402238, 1.146e-04, -692),\n",
       "       ( 0.        ,  0.        , 4.82778074, 0.55261663, -1.85125578, 9.70e-05, 0.15322416, 5.19879448, -0.07402238, 1.156e-04, -702),\n",
       "       ( 0.        ,  0.        , 4.82778074, 0.55261663, -1.85125578, 9.80e-05, 0.15322416, 5.19879448, -0.07402238, 1.166e-04, -712),\n",
       "       ( 0.        ,  0.        , 4.82778074, 0.55261663, -1.85125578, 9.90e-05, 0.15322416, 5.19879448, -0.07402238, 1.176e-04, -722),\n",
       "       ( 0.        ,  0.        , 4.82778074, 0.55261663, -1.85125578, 1.00e-04, 0.15322416, 5.19879448, -0.07402238, 1.186e-04, -732),\n",
       "       ( 0.        ,  0.        , 4.82778074, 0.55261663, -1.85125578, 1.01e-04, 0.15322416, 5.19879448, -0.07402238, 1.196e-04, -742),\n",
       "       ( 0.        ,  0.        , 4.82778074, 0.55261663, -1.85125578, 1.02e-04, 0.15322416, 5.19879448, -0.07402238, 1.206e-04, -752),\n",
       "       ( 0.        ,  0.        , 4.82778074, 0.55261663, -1.85125578, 1.03e-04, 0.15322416, 5.19879448, -0.07402238, 1.216e-04, -762),\n",
       "       ( 0.        ,  0.        , 4.82778074, 0.55261663, -1.85125578, 1.04e-04, 0.15322416, 5.19879448, -0.07402238, 1.226e-04, -772),\n",
       "       ( 0.        ,  0.        , 4.82778074, 0.55261663, -1.85125578, 1.05e-04, 0.15322416, 5.19879448, -0.07402238, 1.236e-04, -782),\n",
       "       ( 0.        ,  0.        , 4.82778074, 0.55261663, -1.85125578, 1.06e-04, 0.15322416, 5.19879448, -0.07402238, 1.246e-04, -792),\n",
       "       ( 0.        ,  0.        , 4.82778074, 0.55261663, -1.85125578, 1.07e-04, 0.15322416, 5.19879448, -0.07402238, 1.256e-04, -802),\n",
       "       ( 0.        ,  0.        , 4.82778074, 0.55261663, -1.85125578, 1.08e-04, 0.15322416, 5.19879448, -0.07402238, 1.266e-04, -812),\n",
       "       ( 0.        ,  0.        , 4.82778074, 0.55261663, -1.85125578, 1.09e-04, 0.15322416, 5.19879448, -0.07402238, 1.276e-04, -822),\n",
       "       ( 0.        ,  0.        , 4.82778074, 0.55261663, -1.85125578, 1.10e-04, 0.15322416, 5.19879448, -0.07402238, 1.286e-04, -832)],\n",
       "      dtype=[('S', '<f8'), ('S_norm', '<f8'), ('alpha0_x', '<f8'), ('alpha0_y', '<f8'), ('alpha0_z', '<f8'), ('alpha0_t', '<f8'), ('alpha1_x', '<f8'), ('alpha1_y', '<f8'), ('alpha1_z', '<f8'), ('alpha1_t', '<f8'), ('steps', '<i4')])"
      ]
     },
     "execution_count": 19,
     "metadata": {},
     "output_type": "execute_result"
    }
   ],
   "source": [
    "# Shows the result of transform\n",
    "transformed_data"
   ]
  },
  {
   "cell_type": "code",
   "execution_count": 20,
   "metadata": {},
   "outputs": [
    {
     "data": {
      "text/plain": [
       "(0.07873261, 0.00984158, 4.82778074, 0.55261663, -1.85125578, 2.6e-05, 0.15322416, 5.19879448, -0.07402238, 4.46e-05, 8)"
      ]
     },
     "execution_count": 20,
     "metadata": {},
     "output_type": "execute_result"
    }
   ],
   "source": [
    "# Shows the track associated with the largest Snorm (S) value\n",
    "transformed_data[np.argmax(transformed_data['S_norm'])]"
   ]
  },
  {
   "cell_type": "code",
   "execution_count": 21,
   "metadata": {},
   "outputs": [],
   "source": [
    "# Format: variable = np.array(transformed_data['variable_name'])\n",
    "\n",
    "Snorm_data_plt = np.array(transformed_data['S_norm'])\n",
    "S_data_plt = np.array(transformed_data['S'])\n",
    "\n",
    "# Calculate variable from the standard varaibles of transform if necessary (e.g. theta from the cartesian coordinates)\n",
    "\n",
    "tm_strt_plt = np.array(transformed_data['alpha0_t'])\n",
    "tm_end_plt = np.array(transformed_data['alpha1_t'])\n",
    "vel_plt = np.array(np.sqrt((transformed_data['alpha1_x'] - transformed_data['alpha0_x'])**2 +\n",
    "                   (transformed_data['alpha1_y'] - transformed_data['alpha0_y'])**2 +\n",
    "                   (transformed_data['alpha1_z'] - transformed_data['alpha0_z'])**2) / (transformed_data['alpha1_t'] - transformed_data['alpha0_t']))\n",
    "if 'Theta_Space' in analysis_parameter:\n",
    "    theta_cos_plt = theta_cos_val\n",
    "    theta_plt = np.arccos(theta_cos_val)\n",
    "else:\n",
    "    theta_cos_plt = np.ones(len(S_data_plt))\n",
    "    theta_plt = np.zeros(len(S_data_plt))"
   ]
  },
  {
   "cell_type": "code",
   "execution_count": 22,
   "metadata": {},
   "outputs": [],
   "source": [
    "# Format: variable_noise = np.array(transformed_data_noise['variable_name'])\n",
    "\n",
    "Snorm_data_plt_noise = np.array(transformed_data_noise['S_norm'])\n",
    "S_data_plt_noise = np.array(transformed_data_noise['S'])\n",
    "\n",
    "# Calculate variable from the standard varaibles of transform if necessary (e.g. theta from the cartesian coordinates)\n",
    "\n",
    "tm_strt_plt_noise = np.array(transformed_data_noise['alpha0_t'])\n",
    "tm_end_plt_noise = np.array(transformed_data_noise['alpha1_t'])\n",
    "vel_plt_noise = np.array(np.sqrt((transformed_data_noise['alpha1_x'] - transformed_data_noise['alpha0_x'])**2 +\n",
    "                                 (transformed_data_noise['alpha1_y'] - transformed_data_noise['alpha0_y'])**2 +\n",
    "                                 (transformed_data_noise['alpha1_z'] - transformed_data_noise['alpha0_z'])**2) / (transformed_data_noise['alpha1_t'] - transformed_data_noise['alpha0_t']))"
   ]
  },
  {
   "cell_type": "code",
   "execution_count": 23,
   "metadata": {},
   "outputs": [],
   "source": [
    "# Full width Half Maximum Calculations\n",
    "\n",
    "hf_max_S = np.max(transformed_data['S']) / 2\n",
    "hf_max_Snorm = np.max(transformed_data['S_norm']) / 2\n",
    "\n",
    "# Prominence (Maximum) Determination: Direct Assignment is possible; peak_prominences allows for calculations of correct left and right bases\n",
    "prominence_info = peak_prominences(x=transformed_data['S'], peaks=[np.argmax(transformed_data['S'])])\n",
    "prominence = [np.array([np.max(transformed_data['S'])]), prominence_info[1], prominence_info[2]]\n",
    "\n",
    "# Fwhm Calculation:\n",
    "fwhm_data = peak_widths(x=transformed_data['S'], peaks=[np.argmax(transformed_data['S'])], rel_height=0.5, prominence_data=prominence)\n",
    "\n",
    "# Output of function: widths of each each peak in samples (# of indices), width heights (height of where widths are determined),\n",
    "#                     left interpolated position (left-most index of full-width), right interpolated position (Right-most index of full-width)"
   ]
  },
  {
   "cell_type": "code",
   "execution_count": 27,
   "metadata": {},
   "outputs": [
    {
     "data": {
      "text/plain": [
       "array([  0.,   1.,   2.,   3.,   4.,   5.,   6.,   7.,   8.,   9.,  10.,\n",
       "        11.,  12.,  13.,  14.,  15.,  16.,  17.,  18.,  19.,  20.,  21.,\n",
       "        22.,  23.,  24.,  25.,  26.,  27.,  28.,  29.,  30.,  31.,  32.,\n",
       "        33.,  34.,  35.,  36.,  37.,  38.,  39.,  40.,  41.,  42.,  43.,\n",
       "        44.,  45.,  46.,  47.,  48.,  49.,  50.,  51.,  52.,  53.,  54.,\n",
       "        55.,  56.,  57.,  58.,  59.,  60.,  61.,  62.,  63.,  64.,  65.,\n",
       "        66.,  67.,  68.,  69.,  70.,  71.,  72.,  73.,  74.,  75.,  76.,\n",
       "        77.,  78.,  79.,  80.,  81.,  82.,  83.,  84.,  85.,  86.,  87.,\n",
       "        88.,  89.,  90.,  91.,  92.,  93.,  94.,  95.,  96.,  97.,  98.,\n",
       "        99., 100., 101., 102., 103., 104., 105., 106., 107., 108., 109.,\n",
       "       110.])"
      ]
     },
     "execution_count": 27,
     "metadata": {},
     "output_type": "execute_result"
    }
   ],
   "source": [
    "tm_strt_plt * 10**6"
   ]
  },
  {
   "cell_type": "code",
   "execution_count": 29,
   "metadata": {},
   "outputs": [
    {
     "data": {
      "text/plain": [
       "50.5"
      ]
     },
     "execution_count": 29,
     "metadata": {},
     "output_type": "execute_result"
    }
   ],
   "source": [
    "(n_pad_strt - 1) / 10"
   ]
  },
  {
   "cell_type": "code",
   "execution_count": 53,
   "metadata": {},
   "outputs": [
    {
     "name": "stdout",
     "output_type": "stream",
     "text": [
      "\n",
      " # of indices =  12 , fwhm =  12.0\n",
      "-----------------------------------------------------------\n"
     ]
    },
    {
     "data": {
      "image/png": "[encoded data removed]",
      "text/plain": [
       "<Figure size 720x720 with 1 Axes>"
      ]
     },
     "metadata": {
      "needs_background": "light"
     },
     "output_type": "display_data"
    }
   ],
   "source": [
    "X_Val1 = [(n_pad_strt - 1) / 10, (n_pad_strt - 1) / 10] # Actual Variable Value of Track\n",
    "Y_Val1 = [min(S_data_plt) * 10**9, max(S_data_plt) * 10**9] # If plotting S -> min & max of S_data_plt, If plotting Snorm -> min & max of Snorm_data_plt\n",
    "\n",
    "\n",
    "fig1 = plt.figure(figsize=[10,10])\n",
    "plt.plot(tm_strt_plt * 10**6, S_data_plt * 10**9, 'bo', alpha=1) # Input variable as the X axis & S or Snorm for the y axis\n",
    "plt.plot(X_Val1, Y_Val1, 'r', alpha=0.6, linewidth = 3)\n",
    "\n",
    "plt.plot([tm_strt_plt[int(fwhm_data[2])] * 10**6, tm_strt_plt[int(fwhm_data[3])] * 10**6], [hf_max_S * 10**9, hf_max_S * 10**9], 'g', alpha=1, linewidth = 3)\n",
    "print('\\n # of indices = ', int(fwhm_data[0]), ', fwhm = ', abs(tm_strt_plt[int(fwhm_data[2])] - tm_strt_plt[int(fwhm_data[3])]) * 10**6)\n",
    "print('-----------------------------------------------------------')\n",
    "\n",
    "#plt.xlim(t_entry * 10**6, t_entry * 10**6 + n_pad_strt / 10 + t_exit  * 10**6 + n_pad_end / 10) # Put ranges if necessary, careful of padding\n",
    "plt.ylabel('S_norm (1e9 S)')\n",
    "plt.xlabel('Entry Times (us)')\n",
    "plt.show()"
   ]
  },
  {
   "cell_type": "code",
   "execution_count": 34,
   "metadata": {},
   "outputs": [
    {
     "data": {
      "image/png": "[encoded data removed]",
      "text/plain": [
       "<Figure size 720x720 with 1 Axes>"
      ]
     },
     "metadata": {
      "needs_background": "light"
     },
     "output_type": "display_data"
    }
   ],
   "source": [
    "# Same format as above, plotting with noise instead\n",
    "\n",
    "X_Val1 = [(n_pad_strt - 1) / 10, (n_pad_strt - 1) / 10] # Actual Variable Value of Track\n",
    "Y_Val1 = [min(S_data_plt_noise), max(S_data_plt_noise)]\n",
    "\n",
    "fig2 = plt.figure(figsize=[10,10])\n",
    "plt.plot(tm_strt_plt_noise * 10**6, S_data_plt_noise, 'bo', alpha=1)\n",
    "plt.plot(X_Val1, Y_Val1, 'r', alpha=0.6, linewidth = 3)\n",
    "\n",
    "plt.xlim(t_entry * 10**6, t_entry * 10**6 + n_pad_strt / 10 + t_exit  * 10**6 + n_pad_end / 10) # Put ranges if necessary, careful of padding\n",
    "plt.ylabel('S_norm (S)')\n",
    "plt.xlabel('Entry Times (us)')\n",
    "plt.show()"
   ]
  },
  {
   "cell_type": "code",
   "execution_count": 35,
   "metadata": {},
   "outputs": [
    {
     "name": "stdout",
     "output_type": "stream",
     "text": [
      "\n",
      " # of indices =  12 , fwhm =  11.999999999999996\n",
      "-----------------------------------------------------------\n"
     ]
    },
    {
     "data": {
      "image/png": "[encoded data removed]",
      "text/plain": [
       "<Figure size 720x720 with 1 Axes>"
      ]
     },
     "metadata": {
      "needs_background": "light"
     },
     "output_type": "display_data"
    }
   ],
   "source": [
    "X_Val1 = [(((out[track]['time'][-1] - (n_pad_end + 1) * 100) / 1000) + ((n_pad_strt - 1) / 10)), (((out[track]['time'][-1] - (n_pad_end + 1) * 100) / 1000) + ((n_pad_strt - 1) / 10))]\n",
    "Y_Val1 = [min(S_data_plt), max(S_data_plt)]\n",
    "\n",
    "fig3 = plt.figure(figsize=[10,10])\n",
    "plt.plot(tm_end_plt * 10**6, S_data_plt, 'bo', alpha=1)\n",
    "\n",
    "plt.plot([tm_end_plt[int(fwhm_data[2])] * 10**6, tm_end_plt[int(fwhm_data[3])] * 10**6], [hf_max_S, hf_max_S], 'g', alpha=1, linewidth = 3)\n",
    "print('\\n # of indices = ', int(fwhm_data[0]), ', fwhm = ', abs(tm_end_plt[int(fwhm_data[2])] - tm_end_plt[int(fwhm_data[3])]) * 10**6)\n",
    "print('-----------------------------------------------------------')\n",
    "\n",
    "plt.plot(X_Val1, Y_Val1, 'r', alpha=0.6, linewidth = 3)\n",
    "#plt.xlim(t_entry * 10**6, t_entry * 10**6 + n_pad_strt / 10 + t_exit  * 10**6 + n_pad_end / 10) # Put ranges if necessary, careful of padding\n",
    "plt.ylabel('S_norm (S)')\n",
    "plt.xlabel('Exit Times (us)')\n",
    "plt.show()"
   ]
  },
  {
   "cell_type": "code",
   "execution_count": 36,
   "metadata": {},
   "outputs": [
    {
     "name": "stdout",
     "output_type": "stream",
     "text": [
      "\n",
      " # of indices =  12 , fwhm =  11.999999999999996\n",
      "-----------------------------------------------------------\n"
     ]
    },
    {
     "data": {
      "image/png": "[encoded data removed]",
      "text/plain": [
       "<Figure size 720x720 with 1 Axes>"
      ]
     },
     "metadata": {
      "needs_background": "light"
     },
     "output_type": "display_data"
    }
   ],
   "source": [
    "X_Val1 = [out[track]['time'][-1] - (n_pad_end + 1) * 100 + (n_pad_strt -1) * 100, out[track]['time'][-1] - (n_pad_end + 1) * 100 + (n_pad_strt -1) * 100]\n",
    "Y_Val1 = [min(S_data_plt), max(S_data_plt)]\n",
    "\n",
    "fig3 = plt.figure(figsize=[10,10])\n",
    "plt.plot(tm_end_plt * 10**9, S_data_plt, 'bo', alpha=1)\n",
    "\n",
    "plt.plot([tm_end_plt[int(fwhm_data[2])] * 10**9, tm_end_plt[int(fwhm_data[3])] * 10**9], [hf_max_S, hf_max_S], 'g', alpha=1, linewidth = 3)\n",
    "print('\\n # of indices = ', int(fwhm_data[0]), ', fwhm = ', abs(tm_end_plt[int(fwhm_data[2])] - tm_end_plt[int(fwhm_data[3])]) * 10**6)\n",
    "print('-----------------------------------------------------------')\n",
    "\n",
    "plt.plot(X_Val1, Y_Val1, 'r', alpha=0.6, linewidth = 3)\n",
    "#plt.yscale('log')\n",
    "plt.ylabel('S_norm')\n",
    "plt.xlabel('Exit Time')\n",
    "plt.show()"
   ]
  },
  {
   "cell_type": "code",
   "execution_count": 37,
   "metadata": {},
   "outputs": [
    {
     "name": "stdout",
     "output_type": "stream",
     "text": [
      "\n",
      " # of indices =  12 , fwhm =  5.820766091346741e-14\n",
      "-----------------------------------------------------------\n"
     ]
    },
    {
     "data": {
      "image/png": "[encoded data removed]",
      "text/plain": [
       "<Figure size 720x720 with 1 Axes>"
      ]
     },
     "metadata": {
      "needs_background": "light"
     },
     "output_type": "display_data"
    }
   ],
   "source": [
    "X_Val1 = [vel/1000, vel/1000]\n",
    "Y_Val1 = [min(S_data_plt), max(S_data_plt)]\n",
    "\n",
    "fig4 = plt.figure(figsize=[10,10])\n",
    "plt.plot(vel_plt/1000, S_data_plt, 'bo', alpha=1)\n",
    "plt.plot(X_Val1, Y_Val1, 'r', alpha=0.6, linewidth = 3)\n",
    "\n",
    "vel_step = vel_plt[1] - vel_plt[0]\n",
    "\n",
    "plt.plot([1e2 + fwhm_data[2] * vel_step / 1000, 1e2 + fwhm_data[3] * vel_step / 1000], [hf_max_S, hf_max_S], 'g', alpha=1, linewidth = 3)\n",
    "print('\\n # of indices = ', int(fwhm_data[0]), ', fwhm = ', abs(vel_plt[int(fwhm_data[2])] - vel_plt[int(fwhm_data[3])])/1000)\n",
    "print('-----------------------------------------------------------')\n",
    "\n",
    "plt.ylabel('S_norm (S)')\n",
    "plt.xlabel('Velocity (m/s)')\n",
    "plt.show()"
   ]
  },
  {
   "cell_type": "code",
   "execution_count": 38,
   "metadata": {},
   "outputs": [
    {
     "name": "stdout",
     "output_type": "stream",
     "text": [
      "[0.] 367.0\n",
      "100.0\n",
      "[367.]\n",
      "0.0\n"
     ]
    }
   ],
   "source": [
    "# Values of the Velocity Analysis and Plotting\n",
    "\n",
    "print(fwhm_data[2] * vel_step / 1000, vel_plt[int(fwhm_data[2])] / 1000)\n",
    "print(1e2 + (np.argmax(transformed_data['S'])) * vel_step / 1000)\n",
    "print(vel/1000)\n",
    "print(vel_step/1000)"
   ]
  },
  {
   "cell_type": "code",
   "execution_count": 39,
   "metadata": {},
   "outputs": [
    {
     "data": {
      "image/png": "[encoded data removed]",
      "text/plain": [
       "<Figure size 720x720 with 1 Axes>"
      ]
     },
     "metadata": {
      "needs_background": "light"
     },
     "output_type": "display_data"
    }
   ],
   "source": [
    "X_Val1 = [vel/1000, vel/1000]\n",
    "Y_Val1 = [min(S_data_plt_noise), max(S_data_plt_noise)]\n",
    "\n",
    "fig3 = plt.figure(figsize=[10,10])\n",
    "plt.plot(vel_plt_noise/1000, S_data_plt_noise, 'bo', alpha=1)\n",
    "plt.plot(X_Val1, Y_Val1, 'r', alpha=0.6, linewidth = 3)\n",
    "#plt.plot(X_Val2, Y_Val1, 'g', alpha=0.6, linewidth = 3)\n",
    "#plt.yscale('log')\n",
    "plt.ylabel('S_norm (S)')\n",
    "plt.xlabel('Velocity (m/s)')\n",
    "plt.show()"
   ]
  },
  {
   "cell_type": "code",
   "execution_count": 40,
   "metadata": {},
   "outputs": [
    {
     "name": "stdout",
     "output_type": "stream",
     "text": [
      "\n",
      " # of indices =  12 , fwhm =  0.0\n",
      "-----------------------------------------------------------\n"
     ]
    },
    {
     "data": {
      "image/png": "[encoded data removed]",
      "text/plain": [
       "<Figure size 720x720 with 1 Axes>"
      ]
     },
     "metadata": {
      "needs_background": "light"
     },
     "output_type": "display_data"
    }
   ],
   "source": [
    "X_Val1 = [1, 1] # plotting cos theta values\n",
    "Y_Val1 = [min(S_data_plt) * 10**9, max(S_data_plt) * 10**9]\n",
    "\n",
    "fig3 = plt.figure(figsize=[10,10])\n",
    "plt.plot(theta_cos_plt, S_data_plt * 10**9, 'bo', alpha=1)\n",
    "plt.plot(X_Val1, Y_Val1, 'r', alpha=0.6, linewidth = 3)\n",
    "\n",
    "plt.plot([theta_cos_plt[int(fwhm_data[2])], theta_cos_plt[int(fwhm_data[3])]], [hf_max_S * 10**9, hf_max_S * 10**9], 'g', alpha=1, linewidth = 3)\n",
    "print('\\n # of indices = ', int(fwhm_data[0]), ', fwhm = ', abs(theta_cos_plt[int(fwhm_data[2])] - theta_cos_plt[int(fwhm_data[3])]))\n",
    "print('-----------------------------------------------------------')\n",
    "\n",
    "plt.ylabel('S_norm (1e-9 S)')\n",
    "plt.xlabel('Cos(theta)')\n",
    "plt.show()"
   ]
  },
  {
   "cell_type": "code",
   "execution_count": 41,
   "metadata": {},
   "outputs": [
    {
     "name": "stdout",
     "output_type": "stream",
     "text": [
      "\n",
      " # of indices =  12 , fwhm =  0.0\n",
      "-----------------------------------------------------------\n"
     ]
    },
    {
     "data": {
      "image/png": "[encoded data removed]",
      "text/plain": [
       "<Figure size 720x720 with 1 Axes>"
      ]
     },
     "metadata": {
      "needs_background": "light"
     },
     "output_type": "display_data"
    }
   ],
   "source": [
    "X_Val1 = [0, 0] # plotting theta values\n",
    "Y_Val1 = [min(S_data_plt) * 10**9, max(S_data_plt) * 10**9]\n",
    "\n",
    "fig3 = plt.figure(figsize=[10,10])\n",
    "plt.plot(theta_plt, S_data_plt * 10**9, 'bo', alpha=1)\n",
    "plt.plot(X_Val1, Y_Val1, 'r', alpha=0.6, linewidth = 3)\n",
    "\n",
    "plt.plot([theta_plt[int(fwhm_data[2])], theta_plt[int(fwhm_data[3])]], [hf_max_S * 10**9, hf_max_S * 10**9], 'g', alpha=1, linewidth = 3)\n",
    "print('\\n # of indices = ', int(fwhm_data[0]), ', fwhm = ', abs(theta_plt[int(fwhm_data[2])] - theta_plt[int(fwhm_data[3])]))\n",
    "print('-----------------------------------------------------------')\n",
    "\n",
    "plt.ylabel('S_norm (1e-9 S)')\n",
    "plt.xlabel('theta')\n",
    "plt.show()"
   ]
  },
  {
   "cell_type": "code",
   "execution_count": 42,
   "metadata": {},
   "outputs": [
    {
     "data": {
      "image/png": "[encoded data removed]",
      "text/plain": [
       "<Figure size 720x720 with 1 Axes>"
      ]
     },
     "metadata": {
      "needs_background": "light"
     },
     "output_type": "display_data"
    }
   ],
   "source": [
    "X_Val1 = [1, 1] # if plotting cos theta values\n",
    "# X_Val1 = [0, 0] # if plotting theta values\n",
    "Y_Val1 = [min(S_data_plt_noise), max(S_data_plt_noise)]\n",
    "\n",
    "fig3 = plt.figure(figsize=[10,10])\n",
    "plt.plot(theta_cos_plt, S_data_plt_noise, 'bo', alpha=1)\n",
    "plt.plot(X_Val1, Y_Val1, 'r', alpha=0.6, linewidth = 3)\n",
    "\n",
    "plt.ylabel('S_norm')\n",
    "plt.xlabel('cos(theta)')\n",
    "plt.show()"
   ]
  },
  {
   "cell_type": "code",
   "execution_count": null,
   "metadata": {},
   "outputs": [],
   "source": []
  }
 ],
 "metadata": {
  "kernelspec": {
   "display_name": "Python 3",
   "language": "python",
   "name": "python3"
  },
  "language_info": {
   "codemirror_mode": {
    "name": "ipython",
    "version": 3
   },
   "file_extension": ".py",
   "mimetype": "text/x-python",
   "name": "python",
   "nbconvert_exporter": "python",
   "pygments_lexer": "ipython3",
   "version": "3.7.6"
  },
  "widgets": {
   "application/vnd.jupyter.widget-state+json": {
    "state": {},
    "version_major": 2,
    "version_minor": 0
   }
  }
 },
 "nbformat": 4,
 "nbformat_minor": 4
}
